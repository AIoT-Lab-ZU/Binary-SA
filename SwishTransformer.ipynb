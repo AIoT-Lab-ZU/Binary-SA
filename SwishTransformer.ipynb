{
 "cells": [
  {
   "cell_type": "code",
   "execution_count": 1,
   "id": "23e822cc-c6a9-408f-bb2d-256e9b8dae76",
   "metadata": {},
   "outputs": [],
   "source": [
    "import tensorflow as tf\n",
    "from tensorflow import keras\n",
    "from tensorflow.keras import layers\n",
    "import numpy as np"
   ]
  },
  {
   "cell_type": "code",
   "execution_count": 2,
   "id": "f3d4716d-eaa5-4cce-98e8-87eafbd08d06",
   "metadata": {
    "colab": {},
    "colab_type": "code",
    "id": "DCwfeNVd-Hdc"
   },
   "outputs": [],
   "source": [
    "# Import required packages\n",
    "\n",
    "import pandas as pd\n",
    "import numpy as np\n",
    "import matplotlib.pyplot as plt\n",
    "import nltk\n",
    "import keras\n",
    "from keras.preprocessing.text import Tokenizer\n",
    "from keras.layers import Dense, Dropout, Embedding, LSTM, Bidirectional,InputLayer\n",
    "from sklearn.model_selection import train_test_split"
   ]
  },
  {
   "cell_type": "code",
   "execution_count": 3,
   "id": "5a6b090d-e054-4923-901c-78613761cb5c",
   "metadata": {},
   "outputs": [],
   "source": [
    "import tensorflow as tf"
   ]
  },
  {
   "cell_type": "code",
   "execution_count": 4,
   "id": "e09c0b32-682b-497e-8941-d1f9487388be",
   "metadata": {
    "colab": {},
    "colab_type": "code",
    "id": "mmgDSHjo-Zud"
   },
   "outputs": [],
   "source": [
    "# Import Sentiment140 dataset\n",
    "# Update file location of Sentiment140.csv according to your working environment\n",
    "\n",
    "data_path  = \"data/training.1600000.processed.noemoticon.csv\"\n",
    "\n",
    "twitter_data = pd.read_csv(data_path,names=['target','id','date','flag','user','text'],\n",
    "                           encoding = \"ISO-8859-1\")"
   ]
  },
  {
   "cell_type": "code",
   "execution_count": 5,
   "id": "36d6e7b4-0b85-4f06-bb72-764ccdaed2dc",
   "metadata": {
    "colab": {},
    "colab_type": "code",
    "id": "4clzU4R-_IqE"
   },
   "outputs": [],
   "source": [
    "# Create NumPy array of unprocessed input text and target \n",
    "\n",
    "X=np.array(twitter_data['text'])\n",
    "Y=np.array(twitter_data['target'])\n",
    "\n",
    "# Set Y=1 for Positive Tweets\n",
    "Y[Y==4]=1"
   ]
  },
  {
   "cell_type": "code",
   "execution_count": 6,
   "id": "60fc25f2-1c31-408c-8edc-71c88fbf1ea0",
   "metadata": {
    "colab": {
     "base_uri": "https://localhost:8080/",
     "height": 34
    },
    "colab_type": "code",
    "id": "0aHJnLhyFK80",
    "outputId": "fe50abb7-0800-49fc-b7fa-bdc1599be315"
   },
   "outputs": [
    {
     "name": "stdout",
     "output_type": "stream",
     "text": [
      "I am in pain. My back and sides hurt. Not to mention crying is made of fail. \n"
     ]
    }
   ],
   "source": [
    "# Visualize Dataset\n",
    "\n",
    "index = 123  # index in range [0,1599999]\n",
    "\n",
    "print(X[index])"
   ]
  },
  {
   "cell_type": "code",
   "execution_count": 7,
   "id": "53350095-b9ff-4cf7-b247-b2d7ce6a2bcd",
   "metadata": {
    "colab": {},
    "colab_type": "code",
    "id": "YYbJKYT-Ggis"
   },
   "outputs": [],
   "source": [
    "# Define Preprocessing functions\n",
    "\n",
    "def tokenize(X):\n",
    "  \"\"\"\n",
    "  Tokenize the data using nltk\n",
    "  \"\"\"\n",
    "\n",
    "  treebank = nltk.tokenize.TreebankWordTokenizer()\n",
    "  X_tokenized=[treebank.tokenize(sentence) for sentence in X]  \n",
    "  return X_tokenized\n",
    "\n",
    "\n",
    "def remove_stopwords(X):\n",
    "  \"\"\"\n",
    "  Remove Stopwords using nltk\n",
    "  \"\"\"\n",
    "\n",
    "  stopwords=nltk.corpus.stopwords.words('english') + ['@']\n",
    "  X_without_stopwords = []\n",
    "\n",
    "  for sentence in X:\n",
    "\n",
    "    temp = [word for word in sentence if not word in stopwords]\n",
    "    X_without_stopwords.append(temp) \n",
    "\n",
    "  return X_without_stopwords\n",
    "\n",
    "\n",
    "def stem(X,type='porter'):\n",
    "  \"\"\"\n",
    "  Perform Stemming using nltk\n",
    "  type = 'Porter','Snowball','Lancaster'\n",
    "  \"\"\"\n",
    "  \n",
    "  if type == 'porter':\n",
    "    stemmer= nltk.stem.PorterStemmer()\n",
    "  elif type == 'snowball':\n",
    "    stemmer = nltk.stem.SnowballStemmer()\n",
    "  elif type == 'lancaster':\n",
    "    stemmer = nltk.stem.LancasterStemmer()    \n",
    "\n",
    "  \n",
    "  X_stemmed = []\n",
    "\n",
    "  for sentence in X:\n",
    "\n",
    "    temp = [stemmer.stem(word) for word in sentence]\n",
    "    X_stemmed.append(temp)\n",
    "\n",
    "  return X_stemmed \n",
    "\n",
    "\n",
    "\n",
    "def get_wordnet_pos(treebank_tag):\n",
    "        \"\"\"\n",
    "        return WORDNET POS compliance to WORDENT lemmatization (a,n,r,v) \n",
    "        \"\"\"\n",
    "        if treebank_tag.startswith('J'):\n",
    "            return 'a'\n",
    "        elif treebank_tag.startswith('V'):\n",
    "            return 'v'\n",
    "        elif treebank_tag.startswith('N'):\n",
    "            return 'n'\n",
    "        elif treebank_tag.startswith('R'):\n",
    "            return 'r'\n",
    "        else:\n",
    "            return 'n'\n",
    "\n",
    "\n",
    "def lemmatize(X):\n",
    "  \"\"\"\n",
    "  Lemmatize words using corresponding POS tag\n",
    "  \"\"\"\n",
    "\n",
    "  lemmatizer = nltk.stem.WordNetLemmatizer()\n",
    "  \n",
    "  X_pos = []\n",
    "  X_lemmatized = []\n",
    "\n",
    "  for sentence in X :\n",
    "\n",
    "    temp = nltk.pos_tag(sentence)\n",
    "    X_pos.append(temp)  \n",
    "\n",
    "  for sentence in X_pos :\n",
    "\n",
    "    temp = [ lemmatizer.lemmatize(word[0],pos=get_wordnet_pos(word[1])) for word in sentence]\n",
    "    X_lemmatized.append(temp)  \n",
    "\n",
    "  return X_lemmatized    "
   ]
  },
  {
   "cell_type": "markdown",
   "id": "1b0bf752-0c82-47d3-974d-556d6997e22d",
   "metadata": {
    "colab_type": "text",
    "id": "hgesb5eM9dz7"
   },
   "source": [
    "# **Training on Pre-Processed data with GloVe Word Embeddings**\n",
    "\n"
   ]
  },
  {
   "cell_type": "code",
   "execution_count": 8,
   "id": "f524bc71-d699-43dc-b9ee-1cb91d0c0826",
   "metadata": {
    "colab": {},
    "colab_type": "code",
    "id": "vGnvHQFI9jYR"
   },
   "outputs": [],
   "source": [
    "# Preprocess the data\n",
    "\n",
    "X_tokenized = tokenize (X)\n",
    "\n",
    "X_without_stopwords = remove_stopwords ( X_tokenized )\n",
    "\n",
    "X_lemmatized = lemmatize ( X_without_stopwords )\n",
    "\n",
    "X_clean = []\n",
    "\n",
    "for sentence in X_lemmatized:\n",
    "\n",
    "  temp = \" \".join(sentence)\n",
    "  X_clean.append(temp)"
   ]
  },
  {
   "cell_type": "code",
   "execution_count": 9,
   "id": "a3d05eb0-0ffa-42d3-8756-bfdee022d1cd",
   "metadata": {
    "colab": {
     "base_uri": "https://localhost:8080/",
     "height": 34
    },
    "colab_type": "code",
    "id": "099aSlCgdSuH",
    "outputId": "f41677a6-ff10-4b6f-cde7-fef004193127"
   },
   "outputs": [
    {
     "name": "stdout",
     "output_type": "stream",
     "text": [
      "No. of distinct tokens = 836890\n"
     ]
    }
   ],
   "source": [
    "# Count total no. of distinct tokens\n",
    "\n",
    "tokenizer = Tokenizer(filters='@')\n",
    "tokenizer.fit_on_texts(X_clean)\n",
    "\n",
    "print('No. of distinct tokens = '+str(len(tokenizer.word_index)))"
   ]
  },
  {
   "cell_type": "code",
   "execution_count": 10,
   "id": "aca5df81-6b2b-4368-a09c-40e0cb0ef395",
   "metadata": {
    "colab": {},
    "colab_type": "code",
    "id": "KGZbksYQdSuN"
   },
   "outputs": [],
   "source": [
    "# Define Vocabulary size (no. of most frequent tokens) to consider\n",
    "\n",
    "max_vocab=50000"
   ]
  },
  {
   "cell_type": "code",
   "execution_count": 11,
   "id": "c11cc45a-91e8-4059-b6ad-92b675e808a9",
   "metadata": {
    "colab": {},
    "colab_type": "code",
    "id": "eUZATHUKdSuQ"
   },
   "outputs": [],
   "source": [
    "# Reload Twitter dataset with new Vocabulary\n",
    "\n",
    "tokenizer = Tokenizer(num_words=max_vocab,filters='@')\n",
    "tokenizer.fit_on_texts(X_clean)"
   ]
  },
  {
   "cell_type": "code",
   "execution_count": 12,
   "id": "1e3605a0-c96b-4acc-bce1-60869a65709a",
   "metadata": {
    "colab": {},
    "colab_type": "code",
    "id": "vRu7fr1T_b3Y"
   },
   "outputs": [],
   "source": [
    "# Vectorize input text using Vocabulary\n",
    "\n",
    "X_clean_vectorized=tokenizer.texts_to_sequences(X_clean)"
   ]
  },
  {
   "cell_type": "code",
   "execution_count": 13,
   "id": "daab597c-5710-481e-9417-785643d124cf",
   "metadata": {
    "colab": {
     "base_uri": "https://localhost:8080/",
     "height": 34
    },
    "colab_type": "code",
    "id": "u7XIoIzPdSuU",
    "outputId": "08402107-f293-4e39-83fa-c68d38edf0cb"
   },
   "outputs": [
    {
     "name": "stdout",
     "output_type": "stream",
     "text": [
      "Average length of tweets = 10.061133125\n"
     ]
    }
   ],
   "source": [
    "# Count average length of tweets\n",
    "\n",
    "length=[]\n",
    "for sentence in X_clean_vectorized:\n",
    "  length.append(len(sentence))\n",
    "  \n",
    "print('Average length of tweets = '+str(np.mean(length)))"
   ]
  },
  {
   "cell_type": "code",
   "execution_count": 14,
   "id": "7a67e98f-7c33-4022-aceb-579f99708893",
   "metadata": {
    "colab": {},
    "colab_type": "code",
    "id": "pDhzyLd5dSuX"
   },
   "outputs": [],
   "source": [
    "# Define Maximum input length of the Model\n",
    "\n",
    "max_length=20"
   ]
  },
  {
   "cell_type": "code",
   "execution_count": 15,
   "id": "a38b89aa-3e70-4aaf-8171-05bfd99acbfa",
   "metadata": {
    "colab": {
     "base_uri": "https://localhost:8080/",
     "height": 34
    },
    "colab_type": "code",
    "id": "xGFaD8wW_b3b",
    "outputId": "47e59f0b-de0a-46ef-8dd4-8f77d32493dc"
   },
   "outputs": [
    {
     "name": "stdout",
     "output_type": "stream",
     "text": [
      "(1600000, 20)\n"
     ]
    }
   ],
   "source": [
    "# Pad or Trim data to defined input length\n",
    "\n",
    "X_clean_pad = keras.preprocessing.sequence.pad_sequences(X_clean_vectorized,max_length,padding='post',\n",
    "                                                         truncating='post')\n",
    "\n",
    "print(X_clean_pad.shape)"
   ]
  },
  {
   "cell_type": "code",
   "execution_count": 16,
   "id": "f9031a40-1a40-410e-8983-f5664a4fef3a",
   "metadata": {
    "colab": {
     "base_uri": "https://localhost:8080/",
     "height": 457
    },
    "colab_type": "code",
    "id": "h7oQjX--G3IY",
    "outputId": "fe6979ae-a6c9-4335-f827-b5c027b4006f"
   },
   "outputs": [
    {
     "name": "stdout",
     "output_type": "stream",
     "text": [
      "\n",
      "Original :\n",
      "I am in pain. My back and sides hurt. Not to mention crying is made of fail. \n",
      "\n",
      "Tokenized :\n",
      "['I', 'am', 'in', 'pain.', 'My', 'back', 'and', 'sides', 'hurt.', 'Not', 'to', 'mention', 'crying', 'is', 'made', 'of', 'fail', '.']\n",
      "\n",
      "Stopwords removed :\n",
      "['I', 'pain.', 'My', 'back', 'sides', 'hurt.', 'Not', 'mention', 'crying', 'made', 'fail', '.']\n",
      "\n",
      "POS tagged :\n",
      "[('I', 'PRP'), ('pain.', 'VBP'), ('My', 'PRP$'), ('back', 'NN'), ('sides', 'NNS'), ('hurt.', 'VBP'), ('Not', 'RB'), ('mention', 'NN'), ('crying', 'VBG'), ('made', 'VBN'), ('fail', 'NN'), ('.', '.')]\n",
      "\n",
      "Lemmatized :\n",
      "['I', 'pain.', 'My', 'back', 'side', 'hurt.', 'Not', 'mention', 'cry', 'make', 'fail', '.']\n",
      "\n",
      "Clean :\n",
      "I pain. My back side hurt. Not mention cry make fail .\n",
      "\n",
      "Vectorized :\n",
      "[2, 3428, 62, 30, 591, 4229, 146, 831, 308, 33, 426, 4]\n",
      "\n",
      "Padded :\n",
      "[   2 3428   62   30  591 4229  146  831  308   33  426    4    0    0\n",
      "    0    0    0    0    0    0]\n"
     ]
    }
   ],
   "source": [
    "# Visualize pre-processed data\n",
    "\n",
    "index  = 123  # index in range [0,1599999]\n",
    "\n",
    "print('\\nOriginal :')\n",
    "print(X[index])\n",
    "print('\\nTokenized :')\n",
    "print(X_tokenized[index])\n",
    "print('\\nStopwords removed :')\n",
    "print(X_without_stopwords[index])\n",
    "print('\\nPOS tagged :')\n",
    "print(nltk.pos_tag(X_without_stopwords[index]))\n",
    "print('\\nLemmatized :')\n",
    "print(X_lemmatized[index])\n",
    "print('\\nClean :')\n",
    "print(X_clean[index])\n",
    "print('\\nVectorized :')\n",
    "print(X_clean_vectorized[index])\n",
    "print('\\nPadded :')\n",
    "print(X_clean_pad[index])"
   ]
  },
  {
   "cell_type": "code",
   "execution_count": 17,
   "id": "ff5f37b1-827e-4974-8abd-42e85d28177c",
   "metadata": {},
   "outputs": [
    {
     "name": "stdout",
     "output_type": "stream",
     "text": [
      "(1440000, 20)\n",
      "(160000, 20)\n",
      "(1440000, 1)\n",
      "(160000, 1)\n"
     ]
    }
   ],
   "source": [
    "# Perform train-test split\n",
    "\n",
    "np.random.seed(123)\n",
    "\n",
    "X_train, X_test, Y_train, Y_test = train_test_split (X_clean_pad,Y.reshape(Y.shape[0],1),test_size=0.1)\n",
    "\n",
    "print(X_train.shape)\n",
    "print(X_test.shape)\n",
    "print(Y_train.shape)\n",
    "print(Y_test.shape)"
   ]
  },
  {
   "cell_type": "code",
   "execution_count": 65,
   "id": "98f6e4e2-7157-45bb-a7df-3d8c9f3c85c8",
   "metadata": {},
   "outputs": [
    {
     "name": "stdout",
     "output_type": "stream",
     "text": [
      "Number of tokens per batch: 640\n"
     ]
    }
   ],
   "source": [
    "vocab_size = 5000  # Only consider the top 20k words\n",
    "num_tokens_per_example = 20 \n",
    "embed_dim = 32  # Embedding size for each token.\n",
    "num_heads = 2  # Number of attention heads\n",
    "ff_dim = 32  # Hidden layer size in feedforward network.\n",
    "num_experts = 10  # Number of experts used in the Switch Transformer.\n",
    "batch_size = 32  # Batch size.\n",
    "learning_rate = 0.001  # Learning rate.\n",
    "dropout_rate = 0.25  # Dropout rate.\n",
    "num_epochs = 25  # Number of epochs.\n",
    "num_tokens_per_batch = (\n",
    "    batch_size * num_tokens_per_example\n",
    ")  # Total number of tokens per batch.\n",
    "print(f\"Number of tokens per batch: {num_tokens_per_batch}\")\n"
   ]
  },
  {
   "cell_type": "code",
   "execution_count": 131,
   "id": "5a40568b-97f7-43fd-b1fa-89c5246d043d",
   "metadata": {},
   "outputs": [],
   "source": [
    "class TokenAndPositionEmbedding(layers.Layer):\n",
    "    def __init__(self, maxlen, vocab_size, embed_dim):\n",
    "        super(TokenAndPositionEmbedding, self).__init__()\n",
    "        self.maxlen = maxlen\n",
    "        self.vocab_size = vocab_size\n",
    "        self.embed_dim = embed_dim\n",
    "        self.token_emb = layers.Embedding(input_dim=vocab_size, output_dim=embed_dim)\n",
    "        self.pos_emb = layers.Embedding(input_dim=maxlen, output_dim=embed_dim)\n",
    "\n",
    "    def call(self, x):\n",
    "        maxlen = tf.shape(x)[-1]\n",
    "        positions = tf.range(start=0, limit=maxlen, delta=1)\n",
    "        positions = self.pos_emb(positions)\n",
    "        x = self.token_emb(x)\n",
    "        return x + positions\n",
    "    \n",
    "    def get_config(self):\n",
    "        return super(TokenAndPositionEmbedding,self).get_config()"
   ]
  },
  {
   "cell_type": "code",
   "execution_count": 132,
   "id": "345422e6-4835-4236-802b-8db6f7664ed7",
   "metadata": {},
   "outputs": [],
   "source": [
    "def create_feedforward_network(ff_dim, name=None):\n",
    "    return keras.Sequential(\n",
    "        [layers.Dense(ff_dim, activation=\"relu\"), layers.Dense(ff_dim)], name=name\n",
    "    )"
   ]
  },
  {
   "cell_type": "code",
   "execution_count": 133,
   "id": "df538aaa-23cf-4457-a4f8-346af6b81719",
   "metadata": {},
   "outputs": [],
   "source": [
    "def load_balanced_loss(router_probs, expert_mask):\n",
    "    # router_probs [tokens_per_batch, num_experts] is the probability assigned for\n",
    "    # each expert per token. expert_mask [tokens_per_batch, num_experts] contains\n",
    "    # the expert with the highest router probability in one−hot format.\n",
    "\n",
    "    num_experts = tf.shape(expert_mask)[-1]\n",
    "    # Get the fraction of tokens routed to each expert.\n",
    "    # density is a vector of length num experts that sums to 1.\n",
    "    density = tf.reduce_mean(expert_mask, axis=0)\n",
    "    # Get fraction of probability mass assigned to each expert from the router\n",
    "    # across all tokens. density_proxy is a vector of length num experts that sums to 1.\n",
    "    density_proxy = tf.reduce_mean(router_probs, axis=0)\n",
    "    # Want both vectors to have uniform allocation (1/num experts) across all\n",
    "    # num_expert elements. The two vectors will be pushed towards uniform allocation\n",
    "    # when the dot product is minimized.\n",
    "    loss = tf.reduce_mean(density_proxy * density) * tf.cast(\n",
    "        (num_experts ** 2), tf.dtypes.float32\n",
    "    )\n",
    "    return loss"
   ]
  },
  {
   "cell_type": "code",
   "execution_count": 134,
   "id": "dc40dbee-d414-4340-bdf0-7c110dd98eaf",
   "metadata": {},
   "outputs": [],
   "source": [
    "class Router(layers.Layer):\n",
    "    def __init__(self, num_experts, expert_capacity):\n",
    "        self.num_experts = num_experts\n",
    "        self.route = layers.Dense(units=num_experts)\n",
    "        self.expert_capacity = expert_capacity\n",
    "        super(Router, self).__init__()\n",
    "\n",
    "    def call(self, inputs, training=False):\n",
    "        # inputs shape: [tokens_per_batch, embed_dim]\n",
    "        # router_logits shape: [tokens_per_batch, num_experts]\n",
    "        router_logits = self.route(inputs)\n",
    "\n",
    "        if training:\n",
    "            # Add noise for exploration across experts.\n",
    "            router_logits += tf.random.uniform(\n",
    "                shape=router_logits.shape, minval=0.9, maxval=1.1\n",
    "            )\n",
    "        # Probabilities for each token of what expert it should be sent to.\n",
    "        router_probs = keras.activations.softmax(router_logits, axis=-1)\n",
    "        # Get the top−1 expert for each token. expert_gate is the top−1 probability\n",
    "        # from the router for each token. expert_index is what expert each token\n",
    "        # is going to be routed to.\n",
    "        expert_gate, expert_index = tf.math.top_k(router_probs, k=1)\n",
    "        # expert_mask shape: [tokens_per_batch, num_experts]\n",
    "        expert_mask = tf.one_hot(expert_index, depth=self.num_experts)\n",
    "        # Compute load balancing loss.\n",
    "        aux_loss = load_balanced_loss(router_probs, expert_mask)\n",
    "        self.add_loss(aux_loss)\n",
    "        # Experts have a fixed capacity, ensure we do not exceed it. Construct\n",
    "        # the batch indices, to each expert, with position in expert make sure that\n",
    "        # not more that expert capacity examples can be routed to each expert.\n",
    "        position_in_expert = tf.cast(\n",
    "            tf.math.cumsum(expert_mask, axis=0) * expert_mask, tf.dtypes.int32\n",
    "        )\n",
    "        # Keep only tokens that fit within expert capacity.\n",
    "        expert_mask *= tf.cast(\n",
    "            tf.math.less(\n",
    "                tf.cast(position_in_expert, tf.dtypes.int32), self.expert_capacity\n",
    "            ),\n",
    "            tf.dtypes.float32,\n",
    "        )\n",
    "        expert_mask_flat = tf.reduce_sum(expert_mask, axis=-1)\n",
    "        # Mask out the experts that have overflowed the expert capacity.\n",
    "        expert_gate *= expert_mask_flat\n",
    "        # Combine expert outputs and scaling with router probability.\n",
    "        # combine_tensor shape: [tokens_per_batch, num_experts, expert_capacity]\n",
    "        combined_tensor = tf.expand_dims(\n",
    "            expert_gate\n",
    "            * expert_mask_flat\n",
    "            * tf.squeeze(tf.one_hot(expert_index, depth=self.num_experts), 1),\n",
    "            -1,\n",
    "        ) * tf.squeeze(tf.one_hot(position_in_expert, depth=self.expert_capacity), 1)\n",
    "        # Create binary dispatch_tensor [tokens_per_batch, num_experts, expert_capacity]\n",
    "        # that is 1 if the token gets routed to the corresponding expert.\n",
    "        dispatch_tensor = tf.cast(combined_tensor, tf.dtypes.float32)\n",
    "\n",
    "        return dispatch_tensor, combined_tensor\n",
    "    def get_config(self):\n",
    "        return super(Router,self).get_config()\n"
   ]
  },
  {
   "cell_type": "code",
   "execution_count": 135,
   "id": "4f6a7ed9-f598-4474-8424-9f719a937111",
   "metadata": {},
   "outputs": [],
   "source": [
    "class Switch(layers.Layer):\n",
    "    def __init__(self, num_experts, embed_dim, num_tokens_per_batch, capacity_factor=1):\n",
    "        self.num_experts = num_experts\n",
    "        self.embed_dim = embed_dim\n",
    "        self.experts = [\n",
    "            create_feedforward_network(embed_dim) for _ in range(num_experts)\n",
    "        ]\n",
    "\n",
    "        self.expert_capacity = num_tokens_per_batch // self.num_experts\n",
    "        self.router = Router(self.num_experts, self.expert_capacity)\n",
    "        super(Switch, self).__init__()\n",
    "\n",
    "    def call(self, inputs):\n",
    "        batch_size = tf.shape(inputs)[0]\n",
    "        num_tokens_per_example = tf.shape(inputs)[1]\n",
    "\n",
    "        # inputs shape: [num_tokens_per_batch, embed_dim]\n",
    "        inputs = tf.reshape(inputs, [num_tokens_per_batch, self.embed_dim])\n",
    "        # dispatch_tensor shape: [expert_capacity, num_experts, tokens_per_batch]\n",
    "        # combine_tensor shape: [tokens_per_batch, num_experts, expert_capacity]\n",
    "        dispatch_tensor, combine_tensor = self.router(inputs)\n",
    "        # expert_inputs shape: [num_experts, expert_capacity, embed_dim]\n",
    "        expert_inputs = tf.einsum(\"ab,acd->cdb\", inputs, dispatch_tensor)\n",
    "        expert_inputs = tf.reshape(\n",
    "            expert_inputs, [self.num_experts, self.expert_capacity, self.embed_dim]\n",
    "        )\n",
    "        # Dispatch to experts\n",
    "        expert_input_list = tf.unstack(expert_inputs, axis=0)\n",
    "        expert_output_list = [\n",
    "            self.experts[idx](expert_input)\n",
    "            for idx, expert_input in enumerate(expert_input_list)\n",
    "        ]\n",
    "        # expert_outputs shape: [expert_capacity, num_experts, embed_dim]\n",
    "        expert_outputs = tf.stack(expert_output_list, axis=1)\n",
    "        # expert_outputs_combined shape: [tokens_per_batch, embed_dim]\n",
    "        expert_outputs_combined = tf.einsum(\n",
    "            \"abc,xba->xc\", expert_outputs, combine_tensor\n",
    "        )\n",
    "        # output shape: [batch_size, num_tokens_per_example, embed_dim]\n",
    "        outputs = tf.reshape(\n",
    "            expert_outputs_combined,\n",
    "            [batch_size, num_tokens_per_example, self.embed_dim],\n",
    "        )\n",
    "        return outputs\n",
    "    def get_config(self):\n",
    "        return super(Switch,self).get_config()"
   ]
  },
  {
   "cell_type": "code",
   "execution_count": 136,
   "id": "41c8f7b6-32e5-427c-b219-cfded2f3d788",
   "metadata": {},
   "outputs": [],
   "source": [
    "class TransformerBlock(layers.Layer):\n",
    "    def __init__(self, embed_dim, num_heads, ffn, dropout_rate=0.1):\n",
    "        super(TransformerBlock, self).__init__()\n",
    "        self.att = layers.MultiHeadAttention(num_heads=num_heads, key_dim=embed_dim)\n",
    "        # The ffn can be either a standard feedforward network or a switch\n",
    "        # layer with a Mixture of Experts.\n",
    "        self.ffn = ffn\n",
    "        self.layernorm1 = layers.LayerNormalization(epsilon=1e-6)\n",
    "        self.layernorm2 = layers.LayerNormalization(epsilon=1e-6)\n",
    "        self.dropout1 = layers.Dropout(dropout_rate)\n",
    "        self.dropout2 = layers.Dropout(dropout_rate)\n",
    "\n",
    "    def call(self, inputs, training):\n",
    "        attn_output = self.att(inputs, inputs)\n",
    "        attn_output = self.dropout1(attn_output, training=training)\n",
    "        out1 = self.layernorm1(inputs + attn_output)\n",
    "        ffn_output = self.ffn(out1)\n",
    "        ffn_output = self.dropout2(ffn_output, training=training)\n",
    "        return self.layernorm2(out1 + ffn_output)\n",
    "    def get_config(self):\n",
    "        return super(TransformerBlock,self).get_config()"
   ]
  },
  {
   "cell_type": "code",
   "execution_count": 140,
   "id": "f2341bd4-c3ff-4acc-b2f4-6d81f53104fc",
   "metadata": {},
   "outputs": [],
   "source": [
    "def create_classifier():\n",
    "    switch = Switch(num_experts, embed_dim, num_tokens_per_batch)\n",
    "    transformer_block1 = TransformerBlock(ff_dim, num_heads, switch)\n",
    "    transformer_block2 = TransformerBlock(ff_dim, num_heads, switch)\n",
    "    transformer_block3 = TransformerBlock(ff_dim, num_heads, switch)\n",
    "\n",
    "    inputs = layers.Input(shape=(num_tokens_per_example,))\n",
    "    embedding_layer = TokenAndPositionEmbedding(\n",
    "        num_tokens_per_example, vocab_size, embed_dim\n",
    "    )\n",
    "    x = embedding_layer(inputs)\n",
    "    x = transformer_block1(x)\n",
    "    x = transformer_block2(x)\n",
    "    x = transformer_block3(x)\n",
    "    x = layers.GlobalAveragePooling1D()(x)\n",
    "    x = layers.Dropout(dropout_rate)(x)\n",
    "    x = layers.Dense(ff_dim, activation=\"relu\")(x)\n",
    "    x = layers.Dropout(dropout_rate)(x)\n",
    "    outputs = layers.Dense(1, activation=\"sigmoid\")(x)\n",
    "\n",
    "    classifier = keras.Model(inputs=inputs, outputs=outputs)\n",
    "    return classifier"
   ]
  },
  {
   "cell_type": "code",
   "execution_count": 141,
   "id": "1d18af1b-91e3-4ee3-b42c-fab03c8557d0",
   "metadata": {},
   "outputs": [
    {
     "name": "stdout",
     "output_type": "stream",
     "text": [
      "Model: \"model_13\"\n",
      "_________________________________________________________________\n",
      "Layer (type)                 Output Shape              Param #   \n",
      "=================================================================\n",
      "input_14 (InputLayer)        [(None, 20)]              0         \n",
      "_________________________________________________________________\n",
      "token_and_position_embedding (None, 20, 32)            160640    \n",
      "_________________________________________________________________\n",
      "transformer_block_13 (Transf (None, 20, 32)            29994     \n",
      "_________________________________________________________________\n",
      "transformer_block_14 (Transf (None, 20, 32)            29994     \n",
      "_________________________________________________________________\n",
      "transformer_block_15 (Transf (None, 20, 32)            29994     \n",
      "_________________________________________________________________\n",
      "global_average_pooling1d_13  (None, 32)                0         \n",
      "_________________________________________________________________\n",
      "dropout_58 (Dropout)         (None, 32)                0         \n",
      "_________________________________________________________________\n",
      "dense_320 (Dense)            (None, 32)                1056      \n",
      "_________________________________________________________________\n",
      "dropout_59 (Dropout)         (None, 32)                0         \n",
      "_________________________________________________________________\n",
      "dense_321 (Dense)            (None, 1)                 33        \n",
      "=================================================================\n",
      "Total params: 208,811\n",
      "Trainable params: 208,811\n",
      "Non-trainable params: 0\n",
      "_________________________________________________________________\n"
     ]
    }
   ],
   "source": [
    "model= create_classifier()\n",
    "model.summary()"
   ]
  },
  {
   "cell_type": "code",
   "execution_count": 144,
   "id": "7ae0eaf8-e156-4dfd-be74-886d5fabf405",
   "metadata": {},
   "outputs": [
    {
     "name": "stdout",
     "output_type": "stream",
     "text": [
      "Epoch 1/25\n",
      "36000/36000 [==============================] - 3741s 104ms/step - loss: 3.1264 - accuracy: 0.7686 - val_loss: 3.0861 - val_accuracy: 0.7805\n",
      "\n",
      "Epoch 00001: val_accuracy improved from -inf to 0.78048, saving model to models\\swtrans.ft\n"
     ]
    },
    {
     "name": "stderr",
     "output_type": "stream",
     "text": [
      "WARNING:absl:Found untraced functions such as embedding_26_layer_call_fn, embedding_26_layer_call_and_return_conditional_losses, embedding_27_layer_call_fn, embedding_27_layer_call_and_return_conditional_losses, multi_head_attention_13_layer_call_fn while saving (showing 5 of 190). These functions will not be directly callable after loading.\n"
     ]
    },
    {
     "name": "stdout",
     "output_type": "stream",
     "text": [
      "INFO:tensorflow:Assets written to: models\\swtrans.ft\\assets\n"
     ]
    },
    {
     "name": "stderr",
     "output_type": "stream",
     "text": [
      "INFO:tensorflow:Assets written to: models\\swtrans.ft\\assets\n"
     ]
    },
    {
     "name": "stdout",
     "output_type": "stream",
     "text": [
      "Epoch 2/25\n",
      "36000/36000 [==============================] - 4965s 138ms/step - loss: 3.1205 - accuracy: 0.7810 - val_loss: 3.1033 - val_accuracy: 0.7776\n",
      "\n",
      "Epoch 00002: val_accuracy did not improve from 0.78048\n",
      "Epoch 3/25\n",
      "36000/36000 [==============================] - 3152s 88ms/step - loss: 3.1187 - accuracy: 0.7847 - val_loss: 3.0952 - val_accuracy: 0.7839\n",
      "\n",
      "Epoch 00003: val_accuracy improved from 0.78048 to 0.78393, saving model to models\\swtrans.ft\n"
     ]
    },
    {
     "name": "stderr",
     "output_type": "stream",
     "text": [
      "WARNING:absl:Found untraced functions such as embedding_26_layer_call_fn, embedding_26_layer_call_and_return_conditional_losses, embedding_27_layer_call_fn, embedding_27_layer_call_and_return_conditional_losses, multi_head_attention_13_layer_call_fn while saving (showing 5 of 190). These functions will not be directly callable after loading.\n"
     ]
    },
    {
     "name": "stdout",
     "output_type": "stream",
     "text": [
      "INFO:tensorflow:Assets written to: models\\swtrans.ft\\assets\n"
     ]
    },
    {
     "name": "stderr",
     "output_type": "stream",
     "text": [
      "INFO:tensorflow:Assets written to: models\\swtrans.ft\\assets\n"
     ]
    },
    {
     "name": "stdout",
     "output_type": "stream",
     "text": [
      "Epoch 4/25\n",
      "36000/36000 [==============================] - 4442s 123ms/step - loss: 3.1174 - accuracy: 0.7879 - val_loss: 3.1176 - val_accuracy: 0.7855\n",
      "\n",
      "Epoch 00004: val_accuracy improved from 0.78393 to 0.78547, saving model to models\\swtrans.ft\n"
     ]
    },
    {
     "name": "stderr",
     "output_type": "stream",
     "text": [
      "WARNING:absl:Found untraced functions such as embedding_26_layer_call_fn, embedding_26_layer_call_and_return_conditional_losses, embedding_27_layer_call_fn, embedding_27_layer_call_and_return_conditional_losses, multi_head_attention_13_layer_call_fn while saving (showing 5 of 190). These functions will not be directly callable after loading.\n"
     ]
    },
    {
     "name": "stdout",
     "output_type": "stream",
     "text": [
      "INFO:tensorflow:Assets written to: models\\swtrans.ft\\assets\n"
     ]
    },
    {
     "name": "stderr",
     "output_type": "stream",
     "text": [
      "INFO:tensorflow:Assets written to: models\\swtrans.ft\\assets\n"
     ]
    },
    {
     "name": "stdout",
     "output_type": "stream",
     "text": [
      "Epoch 5/25\n",
      "36000/36000 [==============================] - 4486s 125ms/step - loss: 3.1164 - accuracy: 0.7902 - val_loss: 3.1163 - val_accuracy: 0.7863\n",
      "\n",
      "Epoch 00005: val_accuracy improved from 0.78547 to 0.78631, saving model to models\\swtrans.ft\n"
     ]
    },
    {
     "name": "stderr",
     "output_type": "stream",
     "text": [
      "WARNING:absl:Found untraced functions such as embedding_26_layer_call_fn, embedding_26_layer_call_and_return_conditional_losses, embedding_27_layer_call_fn, embedding_27_layer_call_and_return_conditional_losses, multi_head_attention_13_layer_call_fn while saving (showing 5 of 190). These functions will not be directly callable after loading.\n"
     ]
    },
    {
     "name": "stdout",
     "output_type": "stream",
     "text": [
      "INFO:tensorflow:Assets written to: models\\swtrans.ft\\assets\n"
     ]
    },
    {
     "name": "stderr",
     "output_type": "stream",
     "text": [
      "INFO:tensorflow:Assets written to: models\\swtrans.ft\\assets\n"
     ]
    },
    {
     "name": "stdout",
     "output_type": "stream",
     "text": [
      "Epoch 6/25\n",
      "36000/36000 [==============================] - 4446s 124ms/step - loss: 3.1155 - accuracy: 0.7922 - val_loss: 3.1104 - val_accuracy: 0.7860\n",
      "\n",
      "Epoch 00006: val_accuracy did not improve from 0.78631\n",
      "Epoch 00006: early stopping\n"
     ]
    }
   ],
   "source": [
    "from tensorflow.keras.callbacks import EarlyStopping\n",
    "from tensorflow.keras.callbacks import ModelCheckpoint\n",
    "from focal_loss import BinaryFocalLoss\n",
    "model.compile(optimizer = \"adam\", loss = BinaryFocalLoss(gamma=2), metrics = ['accuracy'])\n",
    "es = EarlyStopping(monitor='val_loss', mode='min', verbose=1, patience=5)\n",
    "mc = ModelCheckpoint('models/swtrans.ft', monitor='val_accuracy', mode='max', verbose=1, save_best_only=True)\n",
    "\n",
    "history = model.fit(X_train,Y_train,batch_size=32,epochs=25,validation_split=0.2,callbacks=[es, mc])"
   ]
  },
  {
   "cell_type": "code",
   "execution_count": 145,
   "id": "3ab2d72f-d9e8-4d23-9a38-b82907181ccb",
   "metadata": {},
   "outputs": [
    {
     "name": "stdout",
     "output_type": "stream",
     "text": [
      "dict_keys(['loss', 'accuracy', 'val_loss', 'val_accuracy'])\n"
     ]
    },
    {
     "data": {
      "image/png": "[encoded data removed]",
      "text/plain": [
       "<Figure size 432x288 with 1 Axes>"
      ]
     },
     "metadata": {
      "needs_background": "light"
     },
     "output_type": "display_data"
    },
    {
     "data": {
      "image/png": "[encoded data removed]",
      "text/plain": [
       "<Figure size 432x288 with 1 Axes>"
      ]
     },
     "metadata": {
      "needs_background": "light"
     },
     "output_type": "display_data"
    }
   ],
   "source": [
    "import matplotlib.pyplot as plt\n",
    "print(history.history.keys())\n",
    "# summarize history for accuracy\n",
    "plt.plot(history.history['accuracy'])\n",
    "plt.plot(history.history['val_accuracy'])\n",
    "plt.title('model accuracy')\n",
    "plt.ylabel('accuracy')\n",
    "plt.xlabel('epoch')\n",
    "plt.legend(['train', 'test'], loc='upper left')\n",
    "plt.show()\n",
    "# summarize history for loss\n",
    "plt.plot(history.history['loss'])\n",
    "plt.plot(history.history['val_loss'])\n",
    "plt.title('model loss')\n",
    "plt.ylabel('loss')\n",
    "plt.xlabel('epoch')\n",
    "plt.legend(['train', 'test'], loc='upper left')\n",
    "plt.show()"
   ]
  },
  {
   "cell_type": "code",
   "execution_count": 127,
   "id": "88927f3c-7d8d-4835-ba8d-d06a3bdf4df6",
   "metadata": {},
   "outputs": [],
   "source": [
    "#custom_objects={'BinaryFocalLoss':BinaryFocalLoss, 'TokenAndPositionEmbedding':TokenAndPositionEmbedding}\n",
    "\n"
   ]
  },
  {
   "cell_type": "code",
   "execution_count": 149,
   "id": "9a0f6002-8c94-41f4-ad1e-8dae0bae4263",
   "metadata": {},
   "outputs": [],
   "source": [
    "from focal_loss import BinaryFocalLoss\n",
    "from tensorflow.keras.models import load_model\n",
    "model = load_model('models/swtrans.ft')"
   ]
  },
  {
   "cell_type": "code",
   "execution_count": 150,
   "id": "2d5f86f2-9ad6-4eb0-af64-4393b4019bb0",
   "metadata": {},
   "outputs": [
    {
     "name": "stdout",
     "output_type": "stream",
     "text": [
      "Accuracy: 0.784906\n",
      "Precision: 0.776457\n",
      "Recall: 0.799832\n",
      "F1 score: 0.787971\n",
      "Cohens kappa: 0.569820\n",
      "ROC AUC: 0.869522\n"
     ]
    }
   ],
   "source": [
    "from sklearn.metrics import accuracy_score\n",
    "from sklearn.metrics import precision_score\n",
    "from sklearn.metrics import recall_score\n",
    "from sklearn.metrics import f1_score\n",
    "from sklearn.metrics import cohen_kappa_score\n",
    "from sklearn.metrics import roc_auc_score\n",
    "from sklearn.metrics import confusion_matrix\n",
    "\n",
    "yhat1 = model.predict(X_test, verbose=0)\n",
    "\n",
    "#Binary Classification\n",
    "yhat=np.where(yhat1 > 0.5, 1,0)\n",
    "\n",
    "#Mutli-class Classification\n",
    "#yhat = np.argmax(yhat, axis = 1)\n",
    "\n",
    "\n",
    "accuracy = accuracy_score( Y_test, yhat)\n",
    "print('Accuracy: %f' % accuracy)\n",
    "# precision tp / (tp + fp)\n",
    "precision = precision_score(Y_test, yhat)\n",
    "print('Precision: %f' % precision)\n",
    "# recall: tp / (tp + fn)\n",
    "recall = recall_score(Y_test, yhat)\n",
    "print('Recall: %f' % recall)\n",
    "# f1: 2 tp / (2 tp + fp + fn)\n",
    "f1 = f1_score(Y_test, yhat)\n",
    "print('F1 score: %f' % f1)\n",
    " \n",
    "# kappa\n",
    "kappa = cohen_kappa_score(Y_test, yhat)\n",
    "print('Cohens kappa: %f' % kappa)\n",
    "# ROC AUC\n",
    "auc = roc_auc_score(Y_test, yhat1)\n",
    "print('ROC AUC: %f' % auc)\n"
   ]
  },
  {
   "cell_type": "code",
   "execution_count": 151,
   "id": "6d594983-4b06-45b2-810e-b81dce2b85a4",
   "metadata": {},
   "outputs": [],
   "source": [
    "def decode_sentiment(score, include_neutral=True):\n",
    "    if include_neutral:        \n",
    "        label = 'NEUTRAL'\n",
    "        if score <= SENTIMENT_THRESHOLDS[0]:\n",
    "            label = 'NEGATIVE'\n",
    "        elif score >= SENTIMENT_THRESHOLDS[1]:\n",
    "            label = 'POSITIVE'\n",
    "\n",
    "        return label\n",
    "    else:\n",
    "        return 'NEGATIVE' if score < 0.5 else 'POSITIVE'"
   ]
  },
  {
   "cell_type": "code",
   "execution_count": 152,
   "id": "bf99ba9d-ddad-4692-9c30-cf36fa8b6e6a",
   "metadata": {},
   "outputs": [
    {
     "ename": "ValueError",
     "evalue": "in user code:\n\n    C:\\Users\\MMM\\Anaconda3\\envs\\tensorflow\\lib\\site-packages\\keras\\engine\\training.py:1586 predict_function  *\n        return step_function(self, iterator)\n    C:\\Users\\MMM\\Anaconda3\\envs\\tensorflow\\lib\\site-packages\\keras\\engine\\training.py:1576 step_function  **\n        outputs = model.distribute_strategy.run(run_step, args=(data,))\n    C:\\Users\\MMM\\Anaconda3\\envs\\tensorflow\\lib\\site-packages\\tensorflow\\python\\distribute\\distribute_lib.py:1286 run\n        return self._extended.call_for_each_replica(fn, args=args, kwargs=kwargs)\n    C:\\Users\\MMM\\Anaconda3\\envs\\tensorflow\\lib\\site-packages\\tensorflow\\python\\distribute\\distribute_lib.py:2849 call_for_each_replica\n        return self._call_for_each_replica(fn, args, kwargs)\n    C:\\Users\\MMM\\Anaconda3\\envs\\tensorflow\\lib\\site-packages\\tensorflow\\python\\distribute\\distribute_lib.py:3632 _call_for_each_replica\n        return fn(*args, **kwargs)\n    C:\\Users\\MMM\\Anaconda3\\envs\\tensorflow\\lib\\site-packages\\keras\\engine\\training.py:1569 run_step  **\n        outputs = model.predict_step(data)\n    C:\\Users\\MMM\\Anaconda3\\envs\\tensorflow\\lib\\site-packages\\keras\\engine\\training.py:1537 predict_step\n        return self(x, training=False)\n    C:\\Users\\MMM\\Anaconda3\\envs\\tensorflow\\lib\\site-packages\\keras\\engine\\base_layer.py:1037 __call__\n        outputs = call_fn(inputs, *args, **kwargs)\n    C:\\Users\\MMM\\Anaconda3\\envs\\tensorflow\\lib\\site-packages\\keras\\engine\\functional.py:414 call\n        return self._run_internal_graph(\n    C:\\Users\\MMM\\Anaconda3\\envs\\tensorflow\\lib\\site-packages\\keras\\engine\\functional.py:550 _run_internal_graph\n        outputs = node.layer(*args, **kwargs)\n    C:\\Users\\MMM\\Anaconda3\\envs\\tensorflow\\lib\\site-packages\\keras\\engine\\base_layer.py:1037 __call__\n        outputs = call_fn(inputs, *args, **kwargs)\n    C:\\Users\\MMM\\Anaconda3\\envs\\tensorflow\\lib\\site-packages\\keras\\saving\\saved_model\\utils.py:68 return_outputs_and_add_losses\n        outputs, losses = fn(*args, **kwargs)\n    C:\\Users\\MMM\\Anaconda3\\envs\\tensorflow\\lib\\site-packages\\keras\\saving\\saved_model\\utils.py:164 wrap_with_training_arg\n        return control_flow_util.smart_cond(\n    C:\\Users\\MMM\\Anaconda3\\envs\\tensorflow\\lib\\site-packages\\keras\\utils\\control_flow_util.py:105 smart_cond\n        return tf.__internal__.smart_cond.smart_cond(\n    C:\\Users\\MMM\\Anaconda3\\envs\\tensorflow\\lib\\site-packages\\tensorflow\\python\\framework\\smart_cond.py:58 smart_cond\n        return false_fn()\n    C:\\Users\\MMM\\Anaconda3\\envs\\tensorflow\\lib\\site-packages\\keras\\saving\\saved_model\\utils.py:166 <lambda>\n        lambda: replace_training_and_call(False))\n    C:\\Users\\MMM\\Anaconda3\\envs\\tensorflow\\lib\\site-packages\\keras\\saving\\saved_model\\utils.py:162 replace_training_and_call\n        return wrapped_call(*args, **kwargs)\n    C:\\Users\\MMM\\Anaconda3\\envs\\tensorflow\\lib\\site-packages\\tensorflow\\python\\eager\\def_function.py:885 __call__\n        result = self._call(*args, **kwds)\n    C:\\Users\\MMM\\Anaconda3\\envs\\tensorflow\\lib\\site-packages\\tensorflow\\python\\eager\\def_function.py:924 _call\n        results = self._stateful_fn(*args, **kwds)\n    C:\\Users\\MMM\\Anaconda3\\envs\\tensorflow\\lib\\site-packages\\tensorflow\\python\\eager\\function.py:3038 __call__\n        filtered_flat_args) = self._maybe_define_function(args, kwargs)\n    C:\\Users\\MMM\\Anaconda3\\envs\\tensorflow\\lib\\site-packages\\tensorflow\\python\\eager\\function.py:3463 _maybe_define_function\n        graph_function = self._create_graph_function(args, kwargs)\n    C:\\Users\\MMM\\Anaconda3\\envs\\tensorflow\\lib\\site-packages\\tensorflow\\python\\eager\\function.py:3298 _create_graph_function\n        func_graph_module.func_graph_from_py_func(\n    C:\\Users\\MMM\\Anaconda3\\envs\\tensorflow\\lib\\site-packages\\tensorflow\\python\\framework\\func_graph.py:1007 func_graph_from_py_func\n        func_outputs = python_func(*func_args, **func_kwargs)\n    C:\\Users\\MMM\\Anaconda3\\envs\\tensorflow\\lib\\site-packages\\tensorflow\\python\\eager\\def_function.py:668 wrapped_fn\n        out = weak_wrapped_fn().__wrapped__(*args, **kwds)\n    C:\\Users\\MMM\\Anaconda3\\envs\\tensorflow\\lib\\site-packages\\tensorflow\\python\\saved_model\\function_deserialization.py:274 restored_function_body\n        return _call_concrete_function(function, inputs)\n    C:\\Users\\MMM\\Anaconda3\\envs\\tensorflow\\lib\\site-packages\\tensorflow\\python\\saved_model\\function_deserialization.py:78 _call_concrete_function\n        result = function._call_flat(tensor_inputs, function._captured_inputs)  # pylint: disable=protected-access\n    C:\\Users\\MMM\\Anaconda3\\envs\\tensorflow\\lib\\site-packages\\tensorflow\\python\\saved_model\\load.py:121 _call_flat\n        return super(_WrapperFunction, self)._call_flat(args, captured_inputs,\n    C:\\Users\\MMM\\Anaconda3\\envs\\tensorflow\\lib\\site-packages\\tensorflow\\python\\eager\\function.py:1977 _call_flat\n        flat_outputs = forward_function.call(ctx, args_with_tangents)\n    C:\\Users\\MMM\\Anaconda3\\envs\\tensorflow\\lib\\site-packages\\tensorflow\\python\\eager\\function.py:619 call\n        outputs = functional_ops.partitioned_call(\n    C:\\Users\\MMM\\Anaconda3\\envs\\tensorflow\\lib\\site-packages\\tensorflow\\python\\ops\\functional_ops.py:1221 partitioned_call\n        op = graph.create_op(op_name, args, tout, name=op_name, attrs=op_attrs)\n    C:\\Users\\MMM\\Anaconda3\\envs\\tensorflow\\lib\\site-packages\\tensorflow\\python\\util\\deprecation.py:549 new_func\n        return func(*args, **kwargs)\n    C:\\Users\\MMM\\Anaconda3\\envs\\tensorflow\\lib\\site-packages\\tensorflow\\python\\framework\\ops.py:3499 create_op\n        return self._create_op_internal(op_type, inputs, dtypes, input_types, name,\n    C:\\Users\\MMM\\Anaconda3\\envs\\tensorflow\\lib\\site-packages\\tensorflow\\python\\framework\\func_graph.py:599 _create_op_internal\n        return super(FuncGraph, self)._create_op_internal(  # pylint: disable=protected-access\n    C:\\Users\\MMM\\Anaconda3\\envs\\tensorflow\\lib\\site-packages\\tensorflow\\python\\framework\\ops.py:3561 _create_op_internal\n        ret = Operation(\n    C:\\Users\\MMM\\Anaconda3\\envs\\tensorflow\\lib\\site-packages\\tensorflow\\python\\framework\\ops.py:2041 __init__\n        self._c_op = _create_c_op(self._graph, node_def, inputs,\n    C:\\Users\\MMM\\Anaconda3\\envs\\tensorflow\\lib\\site-packages\\tensorflow\\python\\framework\\ops.py:1883 _create_c_op\n        raise ValueError(str(e))\n\n    ValueError: Cannot reshape a tensor with 5120000 elements to shape [640,32] (20480 elements) for '{{node switch_13/Reshape}} = Reshape[T=DT_FLOAT, Tshape=DT_INT32](layer_normalization_26/batchnorm/add_1, switch_13/Reshape/shape)' with input shapes: [8000,20,32], [2] and with input tensors computed as partial shapes: input[1] = [640,32].\n",
     "output_type": "error",
     "traceback": [
      "\u001b[1;31m---------------------------------------------------------------------------\u001b[0m",
      "\u001b[1;31mValueError\u001b[0m                                Traceback (most recent call last)",
      "Input \u001b[1;32mIn [152]\u001b[0m, in \u001b[0;36m<cell line: 3>\u001b[1;34m()\u001b[0m\n\u001b[0;32m      1\u001b[0m y_pred_1d \u001b[38;5;241m=\u001b[39m []\n\u001b[0;32m      2\u001b[0m y_test_1d \u001b[38;5;241m=\u001b[39m \u001b[38;5;28mlist\u001b[39m(Y_test)\n\u001b[1;32m----> 3\u001b[0m scores \u001b[38;5;241m=\u001b[39m \u001b[43mmodel\u001b[49m\u001b[38;5;241;43m.\u001b[39;49m\u001b[43mpredict\u001b[49m\u001b[43m(\u001b[49m\u001b[43mX_test\u001b[49m\u001b[43m,\u001b[49m\u001b[43m \u001b[49m\u001b[43mverbose\u001b[49m\u001b[38;5;241;43m=\u001b[39;49m\u001b[38;5;241;43m1\u001b[39;49m\u001b[43m,\u001b[49m\u001b[43m \u001b[49m\u001b[43mbatch_size\u001b[49m\u001b[38;5;241;43m=\u001b[39;49m\u001b[38;5;241;43m8000\u001b[39;49m\u001b[43m)\u001b[49m\n\u001b[0;32m      4\u001b[0m y_pred_1d \u001b[38;5;241m=\u001b[39m [decode_sentiment(score, include_neutral\u001b[38;5;241m=\u001b[39m\u001b[38;5;28;01mFalse\u001b[39;00m) \u001b[38;5;28;01mfor\u001b[39;00m score \u001b[38;5;129;01min\u001b[39;00m scores]\n",
      "File \u001b[1;32m~\\Anaconda3\\envs\\tensorflow\\lib\\site-packages\\keras\\engine\\training.py:1751\u001b[0m, in \u001b[0;36mModel.predict\u001b[1;34m(self, x, batch_size, verbose, steps, callbacks, max_queue_size, workers, use_multiprocessing)\u001b[0m\n\u001b[0;32m   1749\u001b[0m \u001b[38;5;28;01mfor\u001b[39;00m step \u001b[38;5;129;01min\u001b[39;00m data_handler\u001b[38;5;241m.\u001b[39msteps():\n\u001b[0;32m   1750\u001b[0m   callbacks\u001b[38;5;241m.\u001b[39mon_predict_batch_begin(step)\n\u001b[1;32m-> 1751\u001b[0m   tmp_batch_outputs \u001b[38;5;241m=\u001b[39m \u001b[38;5;28;43mself\u001b[39;49m\u001b[38;5;241;43m.\u001b[39;49m\u001b[43mpredict_function\u001b[49m\u001b[43m(\u001b[49m\u001b[43miterator\u001b[49m\u001b[43m)\u001b[49m\n\u001b[0;32m   1752\u001b[0m   \u001b[38;5;28;01mif\u001b[39;00m data_handler\u001b[38;5;241m.\u001b[39mshould_sync:\n\u001b[0;32m   1753\u001b[0m     context\u001b[38;5;241m.\u001b[39masync_wait()\n",
      "File \u001b[1;32m~\\Anaconda3\\envs\\tensorflow\\lib\\site-packages\\tensorflow\\python\\eager\\def_function.py:885\u001b[0m, in \u001b[0;36mFunction.__call__\u001b[1;34m(self, *args, **kwds)\u001b[0m\n\u001b[0;32m    882\u001b[0m compiler \u001b[38;5;241m=\u001b[39m \u001b[38;5;124m\"\u001b[39m\u001b[38;5;124mxla\u001b[39m\u001b[38;5;124m\"\u001b[39m \u001b[38;5;28;01mif\u001b[39;00m \u001b[38;5;28mself\u001b[39m\u001b[38;5;241m.\u001b[39m_jit_compile \u001b[38;5;28;01melse\u001b[39;00m \u001b[38;5;124m\"\u001b[39m\u001b[38;5;124mnonXla\u001b[39m\u001b[38;5;124m\"\u001b[39m\n\u001b[0;32m    884\u001b[0m \u001b[38;5;28;01mwith\u001b[39;00m OptionalXlaContext(\u001b[38;5;28mself\u001b[39m\u001b[38;5;241m.\u001b[39m_jit_compile):\n\u001b[1;32m--> 885\u001b[0m   result \u001b[38;5;241m=\u001b[39m \u001b[38;5;28;43mself\u001b[39;49m\u001b[38;5;241;43m.\u001b[39;49m\u001b[43m_call\u001b[49m\u001b[43m(\u001b[49m\u001b[38;5;241;43m*\u001b[39;49m\u001b[43margs\u001b[49m\u001b[43m,\u001b[49m\u001b[43m \u001b[49m\u001b[38;5;241;43m*\u001b[39;49m\u001b[38;5;241;43m*\u001b[39;49m\u001b[43mkwds\u001b[49m\u001b[43m)\u001b[49m\n\u001b[0;32m    887\u001b[0m new_tracing_count \u001b[38;5;241m=\u001b[39m \u001b[38;5;28mself\u001b[39m\u001b[38;5;241m.\u001b[39mexperimental_get_tracing_count()\n\u001b[0;32m    888\u001b[0m without_tracing \u001b[38;5;241m=\u001b[39m (tracing_count \u001b[38;5;241m==\u001b[39m new_tracing_count)\n",
      "File \u001b[1;32m~\\Anaconda3\\envs\\tensorflow\\lib\\site-packages\\tensorflow\\python\\eager\\def_function.py:924\u001b[0m, in \u001b[0;36mFunction._call\u001b[1;34m(self, *args, **kwds)\u001b[0m\n\u001b[0;32m    921\u001b[0m \u001b[38;5;28mself\u001b[39m\u001b[38;5;241m.\u001b[39m_lock\u001b[38;5;241m.\u001b[39mrelease()\n\u001b[0;32m    922\u001b[0m \u001b[38;5;66;03m# In this case we have not created variables on the first call. So we can\u001b[39;00m\n\u001b[0;32m    923\u001b[0m \u001b[38;5;66;03m# run the first trace but we should fail if variables are created.\u001b[39;00m\n\u001b[1;32m--> 924\u001b[0m results \u001b[38;5;241m=\u001b[39m \u001b[38;5;28;43mself\u001b[39;49m\u001b[38;5;241;43m.\u001b[39;49m\u001b[43m_stateful_fn\u001b[49m\u001b[43m(\u001b[49m\u001b[38;5;241;43m*\u001b[39;49m\u001b[43margs\u001b[49m\u001b[43m,\u001b[49m\u001b[43m \u001b[49m\u001b[38;5;241;43m*\u001b[39;49m\u001b[38;5;241;43m*\u001b[39;49m\u001b[43mkwds\u001b[49m\u001b[43m)\u001b[49m\n\u001b[0;32m    925\u001b[0m \u001b[38;5;28;01mif\u001b[39;00m \u001b[38;5;28mself\u001b[39m\u001b[38;5;241m.\u001b[39m_created_variables \u001b[38;5;129;01mand\u001b[39;00m \u001b[38;5;129;01mnot\u001b[39;00m ALLOW_DYNAMIC_VARIABLE_CREATION:\n\u001b[0;32m    926\u001b[0m   \u001b[38;5;28;01mraise\u001b[39;00m \u001b[38;5;167;01mValueError\u001b[39;00m(\u001b[38;5;124m\"\u001b[39m\u001b[38;5;124mCreating variables on a non-first call to a function\u001b[39m\u001b[38;5;124m\"\u001b[39m\n\u001b[0;32m    927\u001b[0m                    \u001b[38;5;124m\"\u001b[39m\u001b[38;5;124m decorated with tf.function.\u001b[39m\u001b[38;5;124m\"\u001b[39m)\n",
      "File \u001b[1;32m~\\Anaconda3\\envs\\tensorflow\\lib\\site-packages\\tensorflow\\python\\eager\\function.py:3038\u001b[0m, in \u001b[0;36mFunction.__call__\u001b[1;34m(self, *args, **kwargs)\u001b[0m\n\u001b[0;32m   3035\u001b[0m \u001b[38;5;124;03m\"\"\"Calls a graph function specialized to the inputs.\"\"\"\u001b[39;00m\n\u001b[0;32m   3036\u001b[0m \u001b[38;5;28;01mwith\u001b[39;00m \u001b[38;5;28mself\u001b[39m\u001b[38;5;241m.\u001b[39m_lock:\n\u001b[0;32m   3037\u001b[0m   (graph_function,\n\u001b[1;32m-> 3038\u001b[0m    filtered_flat_args) \u001b[38;5;241m=\u001b[39m \u001b[38;5;28;43mself\u001b[39;49m\u001b[38;5;241;43m.\u001b[39;49m\u001b[43m_maybe_define_function\u001b[49m\u001b[43m(\u001b[49m\u001b[43margs\u001b[49m\u001b[43m,\u001b[49m\u001b[43m \u001b[49m\u001b[43mkwargs\u001b[49m\u001b[43m)\u001b[49m\n\u001b[0;32m   3039\u001b[0m \u001b[38;5;28;01mreturn\u001b[39;00m graph_function\u001b[38;5;241m.\u001b[39m_call_flat(\n\u001b[0;32m   3040\u001b[0m     filtered_flat_args, captured_inputs\u001b[38;5;241m=\u001b[39mgraph_function\u001b[38;5;241m.\u001b[39mcaptured_inputs)\n",
      "File \u001b[1;32m~\\Anaconda3\\envs\\tensorflow\\lib\\site-packages\\tensorflow\\python\\eager\\function.py:3459\u001b[0m, in \u001b[0;36mFunction._maybe_define_function\u001b[1;34m(self, args, kwargs)\u001b[0m\n\u001b[0;32m   3449\u001b[0m \u001b[38;5;28;01mwith\u001b[39;00m ag_ctx\u001b[38;5;241m.\u001b[39mControlStatusCtx(\n\u001b[0;32m   3450\u001b[0m     status\u001b[38;5;241m=\u001b[39mag_status, options\u001b[38;5;241m=\u001b[39m\u001b[38;5;28mself\u001b[39m\u001b[38;5;241m.\u001b[39m_autograph_options):\n\u001b[0;32m   3451\u001b[0m \n\u001b[1;32m   (...)\u001b[0m\n\u001b[0;32m   3454\u001b[0m   \u001b[38;5;66;03m# and 2. there's no provided input signature\u001b[39;00m\n\u001b[0;32m   3455\u001b[0m   \u001b[38;5;66;03m# and 3. there's been a cache miss for this calling context\u001b[39;00m\n\u001b[0;32m   3456\u001b[0m   \u001b[38;5;28;01mif\u001b[39;00m (\u001b[38;5;28mself\u001b[39m\u001b[38;5;241m.\u001b[39m_experimental_relax_shapes \u001b[38;5;129;01mand\u001b[39;00m\n\u001b[0;32m   3457\u001b[0m       \u001b[38;5;28mself\u001b[39m\u001b[38;5;241m.\u001b[39minput_signature \u001b[38;5;129;01mis\u001b[39;00m \u001b[38;5;28;01mNone\u001b[39;00m \u001b[38;5;129;01mand\u001b[39;00m\n\u001b[0;32m   3458\u001b[0m       call_context_key \u001b[38;5;129;01min\u001b[39;00m \u001b[38;5;28mself\u001b[39m\u001b[38;5;241m.\u001b[39m_function_cache\u001b[38;5;241m.\u001b[39mmissed):\n\u001b[1;32m-> 3459\u001b[0m     \u001b[38;5;28;01mreturn\u001b[39;00m \u001b[38;5;28;43mself\u001b[39;49m\u001b[38;5;241;43m.\u001b[39;49m\u001b[43m_define_function_with_shape_relaxation\u001b[49m\u001b[43m(\u001b[49m\n\u001b[0;32m   3460\u001b[0m \u001b[43m        \u001b[49m\u001b[43margs\u001b[49m\u001b[43m,\u001b[49m\u001b[43m \u001b[49m\u001b[43mkwargs\u001b[49m\u001b[43m,\u001b[49m\u001b[43m \u001b[49m\u001b[43mflat_args\u001b[49m\u001b[43m,\u001b[49m\u001b[43m \u001b[49m\u001b[43mfiltered_flat_args\u001b[49m\u001b[43m,\u001b[49m\u001b[43m \u001b[49m\u001b[43mcache_key_context\u001b[49m\u001b[43m)\u001b[49m\n\u001b[0;32m   3462\u001b[0m   \u001b[38;5;28mself\u001b[39m\u001b[38;5;241m.\u001b[39m_function_cache\u001b[38;5;241m.\u001b[39mmissed\u001b[38;5;241m.\u001b[39madd(call_context_key)\n\u001b[0;32m   3463\u001b[0m   graph_function \u001b[38;5;241m=\u001b[39m \u001b[38;5;28mself\u001b[39m\u001b[38;5;241m.\u001b[39m_create_graph_function(args, kwargs)\n",
      "File \u001b[1;32m~\\Anaconda3\\envs\\tensorflow\\lib\\site-packages\\tensorflow\\python\\eager\\function.py:3381\u001b[0m, in \u001b[0;36mFunction._define_function_with_shape_relaxation\u001b[1;34m(self, args, kwargs, flat_args, filtered_flat_args, cache_key_context)\u001b[0m\n\u001b[0;32m   3374\u001b[0m   (relaxed_arg_specs, relaxed_kwarg_specs) \u001b[38;5;241m=\u001b[39m nest\u001b[38;5;241m.\u001b[39mpack_sequence_as(\n\u001b[0;32m   3375\u001b[0m       (args, kwargs), relaxed_arg_specs, expand_composites\u001b[38;5;241m=\u001b[39m\u001b[38;5;28;01mFalse\u001b[39;00m)\n\u001b[0;32m   3376\u001b[0m   (args, kwargs) \u001b[38;5;241m=\u001b[39m nest\u001b[38;5;241m.\u001b[39mpack_sequence_as(\n\u001b[0;32m   3377\u001b[0m       (relaxed_arg_specs, relaxed_kwarg_specs),\n\u001b[0;32m   3378\u001b[0m       flat_args,\n\u001b[0;32m   3379\u001b[0m       expand_composites\u001b[38;5;241m=\u001b[39m\u001b[38;5;28;01mTrue\u001b[39;00m)\n\u001b[1;32m-> 3381\u001b[0m graph_function \u001b[38;5;241m=\u001b[39m \u001b[38;5;28;43mself\u001b[39;49m\u001b[38;5;241;43m.\u001b[39;49m\u001b[43m_create_graph_function\u001b[49m\u001b[43m(\u001b[49m\n\u001b[0;32m   3382\u001b[0m \u001b[43m    \u001b[49m\u001b[43margs\u001b[49m\u001b[43m,\u001b[49m\u001b[43m \u001b[49m\u001b[43mkwargs\u001b[49m\u001b[43m,\u001b[49m\u001b[43m \u001b[49m\u001b[43moverride_flat_arg_shapes\u001b[49m\u001b[38;5;241;43m=\u001b[39;49m\u001b[43mrelaxed_arg_shapes\u001b[49m\u001b[43m)\u001b[49m\n\u001b[0;32m   3383\u001b[0m \u001b[38;5;28mself\u001b[39m\u001b[38;5;241m.\u001b[39m_function_cache\u001b[38;5;241m.\u001b[39marg_relaxed[rank_only_cache_key] \u001b[38;5;241m=\u001b[39m graph_function\n\u001b[0;32m   3385\u001b[0m \u001b[38;5;28;01mreturn\u001b[39;00m (graph_function, [\n\u001b[0;32m   3386\u001b[0m     t \u001b[38;5;28;01mfor\u001b[39;00m t \u001b[38;5;129;01min\u001b[39;00m nest\u001b[38;5;241m.\u001b[39mflatten((args, kwargs), expand_composites\u001b[38;5;241m=\u001b[39m\u001b[38;5;28;01mTrue\u001b[39;00m)\n\u001b[0;32m   3387\u001b[0m     \u001b[38;5;28;01mif\u001b[39;00m \u001b[38;5;28misinstance\u001b[39m(t, (ops\u001b[38;5;241m.\u001b[39mTensor,\n\u001b[0;32m   3388\u001b[0m                       resource_variable_ops\u001b[38;5;241m.\u001b[39mBaseResourceVariable))\n\u001b[0;32m   3389\u001b[0m ])\n",
      "File \u001b[1;32m~\\Anaconda3\\envs\\tensorflow\\lib\\site-packages\\tensorflow\\python\\eager\\function.py:3298\u001b[0m, in \u001b[0;36mFunction._create_graph_function\u001b[1;34m(self, args, kwargs, override_flat_arg_shapes)\u001b[0m\n\u001b[0;32m   3293\u001b[0m missing_arg_names \u001b[38;5;241m=\u001b[39m [\n\u001b[0;32m   3294\u001b[0m     \u001b[38;5;124m\"\u001b[39m\u001b[38;5;132;01m%s\u001b[39;00m\u001b[38;5;124m_\u001b[39m\u001b[38;5;132;01m%d\u001b[39;00m\u001b[38;5;124m\"\u001b[39m \u001b[38;5;241m%\u001b[39m (arg, i) \u001b[38;5;28;01mfor\u001b[39;00m i, arg \u001b[38;5;129;01min\u001b[39;00m \u001b[38;5;28menumerate\u001b[39m(missing_arg_names)\n\u001b[0;32m   3295\u001b[0m ]\n\u001b[0;32m   3296\u001b[0m arg_names \u001b[38;5;241m=\u001b[39m base_arg_names \u001b[38;5;241m+\u001b[39m missing_arg_names\n\u001b[0;32m   3297\u001b[0m graph_function \u001b[38;5;241m=\u001b[39m ConcreteFunction(\n\u001b[1;32m-> 3298\u001b[0m     \u001b[43mfunc_graph_module\u001b[49m\u001b[38;5;241;43m.\u001b[39;49m\u001b[43mfunc_graph_from_py_func\u001b[49m\u001b[43m(\u001b[49m\n\u001b[0;32m   3299\u001b[0m \u001b[43m        \u001b[49m\u001b[38;5;28;43mself\u001b[39;49m\u001b[38;5;241;43m.\u001b[39;49m\u001b[43m_name\u001b[49m\u001b[43m,\u001b[49m\n\u001b[0;32m   3300\u001b[0m \u001b[43m        \u001b[49m\u001b[38;5;28;43mself\u001b[39;49m\u001b[38;5;241;43m.\u001b[39;49m\u001b[43m_python_function\u001b[49m\u001b[43m,\u001b[49m\n\u001b[0;32m   3301\u001b[0m \u001b[43m        \u001b[49m\u001b[43margs\u001b[49m\u001b[43m,\u001b[49m\n\u001b[0;32m   3302\u001b[0m \u001b[43m        \u001b[49m\u001b[43mkwargs\u001b[49m\u001b[43m,\u001b[49m\n\u001b[0;32m   3303\u001b[0m \u001b[43m        \u001b[49m\u001b[38;5;28;43mself\u001b[39;49m\u001b[38;5;241;43m.\u001b[39;49m\u001b[43minput_signature\u001b[49m\u001b[43m,\u001b[49m\n\u001b[0;32m   3304\u001b[0m \u001b[43m        \u001b[49m\u001b[43mautograph\u001b[49m\u001b[38;5;241;43m=\u001b[39;49m\u001b[38;5;28;43mself\u001b[39;49m\u001b[38;5;241;43m.\u001b[39;49m\u001b[43m_autograph\u001b[49m\u001b[43m,\u001b[49m\n\u001b[0;32m   3305\u001b[0m \u001b[43m        \u001b[49m\u001b[43mautograph_options\u001b[49m\u001b[38;5;241;43m=\u001b[39;49m\u001b[38;5;28;43mself\u001b[39;49m\u001b[38;5;241;43m.\u001b[39;49m\u001b[43m_autograph_options\u001b[49m\u001b[43m,\u001b[49m\n\u001b[0;32m   3306\u001b[0m \u001b[43m        \u001b[49m\u001b[43marg_names\u001b[49m\u001b[38;5;241;43m=\u001b[39;49m\u001b[43marg_names\u001b[49m\u001b[43m,\u001b[49m\n\u001b[0;32m   3307\u001b[0m \u001b[43m        \u001b[49m\u001b[43moverride_flat_arg_shapes\u001b[49m\u001b[38;5;241;43m=\u001b[39;49m\u001b[43moverride_flat_arg_shapes\u001b[49m\u001b[43m,\u001b[49m\n\u001b[0;32m   3308\u001b[0m \u001b[43m        \u001b[49m\u001b[43mcapture_by_value\u001b[49m\u001b[38;5;241;43m=\u001b[39;49m\u001b[38;5;28;43mself\u001b[39;49m\u001b[38;5;241;43m.\u001b[39;49m\u001b[43m_capture_by_value\u001b[49m\u001b[43m)\u001b[49m,\n\u001b[0;32m   3309\u001b[0m     \u001b[38;5;28mself\u001b[39m\u001b[38;5;241m.\u001b[39m_function_attributes,\n\u001b[0;32m   3310\u001b[0m     function_spec\u001b[38;5;241m=\u001b[39m\u001b[38;5;28mself\u001b[39m\u001b[38;5;241m.\u001b[39mfunction_spec,\n\u001b[0;32m   3311\u001b[0m     \u001b[38;5;66;03m# Tell the ConcreteFunction to clean up its graph once it goes out of\u001b[39;00m\n\u001b[0;32m   3312\u001b[0m     \u001b[38;5;66;03m# scope. This is not the default behavior since it gets used in some\u001b[39;00m\n\u001b[0;32m   3313\u001b[0m     \u001b[38;5;66;03m# places (like Keras) where the FuncGraph lives longer than the\u001b[39;00m\n\u001b[0;32m   3314\u001b[0m     \u001b[38;5;66;03m# ConcreteFunction.\u001b[39;00m\n\u001b[0;32m   3315\u001b[0m     shared_func_graph\u001b[38;5;241m=\u001b[39m\u001b[38;5;28;01mFalse\u001b[39;00m)\n\u001b[0;32m   3316\u001b[0m \u001b[38;5;28;01mreturn\u001b[39;00m graph_function\n",
      "File \u001b[1;32m~\\Anaconda3\\envs\\tensorflow\\lib\\site-packages\\tensorflow\\python\\framework\\func_graph.py:1007\u001b[0m, in \u001b[0;36mfunc_graph_from_py_func\u001b[1;34m(name, python_func, args, kwargs, signature, func_graph, autograph, autograph_options, add_control_dependencies, arg_names, op_return_value, collections, capture_by_value, override_flat_arg_shapes, acd_record_initial_resource_uses)\u001b[0m\n\u001b[0;32m   1004\u001b[0m \u001b[38;5;28;01melse\u001b[39;00m:\n\u001b[0;32m   1005\u001b[0m   _, original_func \u001b[38;5;241m=\u001b[39m tf_decorator\u001b[38;5;241m.\u001b[39munwrap(python_func)\n\u001b[1;32m-> 1007\u001b[0m func_outputs \u001b[38;5;241m=\u001b[39m \u001b[43mpython_func\u001b[49m\u001b[43m(\u001b[49m\u001b[38;5;241;43m*\u001b[39;49m\u001b[43mfunc_args\u001b[49m\u001b[43m,\u001b[49m\u001b[43m \u001b[49m\u001b[38;5;241;43m*\u001b[39;49m\u001b[38;5;241;43m*\u001b[39;49m\u001b[43mfunc_kwargs\u001b[49m\u001b[43m)\u001b[49m\n\u001b[0;32m   1009\u001b[0m \u001b[38;5;66;03m# invariant: `func_outputs` contains only Tensors, CompositeTensors,\u001b[39;00m\n\u001b[0;32m   1010\u001b[0m \u001b[38;5;66;03m# TensorArrays and `None`s.\u001b[39;00m\n\u001b[0;32m   1011\u001b[0m func_outputs \u001b[38;5;241m=\u001b[39m nest\u001b[38;5;241m.\u001b[39mmap_structure(convert, func_outputs,\n\u001b[0;32m   1012\u001b[0m                                   expand_composites\u001b[38;5;241m=\u001b[39m\u001b[38;5;28;01mTrue\u001b[39;00m)\n",
      "File \u001b[1;32m~\\Anaconda3\\envs\\tensorflow\\lib\\site-packages\\tensorflow\\python\\eager\\def_function.py:668\u001b[0m, in \u001b[0;36mFunction._defun_with_scope.<locals>.wrapped_fn\u001b[1;34m(*args, **kwds)\u001b[0m\n\u001b[0;32m    664\u001b[0m \u001b[38;5;28;01mwith\u001b[39;00m default_graph\u001b[38;5;241m.\u001b[39m_variable_creator_scope(scope, priority\u001b[38;5;241m=\u001b[39m\u001b[38;5;241m50\u001b[39m):  \u001b[38;5;66;03m# pylint: disable=protected-access\u001b[39;00m\n\u001b[0;32m    665\u001b[0m   \u001b[38;5;66;03m# __wrapped__ allows AutoGraph to swap in a converted function. We give\u001b[39;00m\n\u001b[0;32m    666\u001b[0m   \u001b[38;5;66;03m# the function a weak reference to itself to avoid a reference cycle.\u001b[39;00m\n\u001b[0;32m    667\u001b[0m   \u001b[38;5;28;01mwith\u001b[39;00m OptionalXlaContext(compile_with_xla):\n\u001b[1;32m--> 668\u001b[0m     out \u001b[38;5;241m=\u001b[39m \u001b[43mweak_wrapped_fn\u001b[49m\u001b[43m(\u001b[49m\u001b[43m)\u001b[49m\u001b[38;5;241;43m.\u001b[39;49m\u001b[43m__wrapped__\u001b[49m\u001b[43m(\u001b[49m\u001b[38;5;241;43m*\u001b[39;49m\u001b[43margs\u001b[49m\u001b[43m,\u001b[49m\u001b[43m \u001b[49m\u001b[38;5;241;43m*\u001b[39;49m\u001b[38;5;241;43m*\u001b[39;49m\u001b[43mkwds\u001b[49m\u001b[43m)\u001b[49m\n\u001b[0;32m    669\u001b[0m   \u001b[38;5;28;01mreturn\u001b[39;00m out\n",
      "File \u001b[1;32m~\\Anaconda3\\envs\\tensorflow\\lib\\site-packages\\tensorflow\\python\\framework\\func_graph.py:994\u001b[0m, in \u001b[0;36mfunc_graph_from_py_func.<locals>.wrapper\u001b[1;34m(*args, **kwargs)\u001b[0m\n\u001b[0;32m    992\u001b[0m \u001b[38;5;28;01mexcept\u001b[39;00m \u001b[38;5;167;01mException\u001b[39;00m \u001b[38;5;28;01mas\u001b[39;00m e:  \u001b[38;5;66;03m# pylint:disable=broad-except\u001b[39;00m\n\u001b[0;32m    993\u001b[0m   \u001b[38;5;28;01mif\u001b[39;00m \u001b[38;5;28mhasattr\u001b[39m(e, \u001b[38;5;124m\"\u001b[39m\u001b[38;5;124mag_error_metadata\u001b[39m\u001b[38;5;124m\"\u001b[39m):\n\u001b[1;32m--> 994\u001b[0m     \u001b[38;5;28;01mraise\u001b[39;00m e\u001b[38;5;241m.\u001b[39mag_error_metadata\u001b[38;5;241m.\u001b[39mto_exception(e)\n\u001b[0;32m    995\u001b[0m   \u001b[38;5;28;01melse\u001b[39;00m:\n\u001b[0;32m    996\u001b[0m     \u001b[38;5;28;01mraise\u001b[39;00m\n",
      "\u001b[1;31mValueError\u001b[0m: in user code:\n\n    C:\\Users\\MMM\\Anaconda3\\envs\\tensorflow\\lib\\site-packages\\keras\\engine\\training.py:1586 predict_function  *\n        return step_function(self, iterator)\n    C:\\Users\\MMM\\Anaconda3\\envs\\tensorflow\\lib\\site-packages\\keras\\engine\\training.py:1576 step_function  **\n        outputs = model.distribute_strategy.run(run_step, args=(data,))\n    C:\\Users\\MMM\\Anaconda3\\envs\\tensorflow\\lib\\site-packages\\tensorflow\\python\\distribute\\distribute_lib.py:1286 run\n        return self._extended.call_for_each_replica(fn, args=args, kwargs=kwargs)\n    C:\\Users\\MMM\\Anaconda3\\envs\\tensorflow\\lib\\site-packages\\tensorflow\\python\\distribute\\distribute_lib.py:2849 call_for_each_replica\n        return self._call_for_each_replica(fn, args, kwargs)\n    C:\\Users\\MMM\\Anaconda3\\envs\\tensorflow\\lib\\site-packages\\tensorflow\\python\\distribute\\distribute_lib.py:3632 _call_for_each_replica\n        return fn(*args, **kwargs)\n    C:\\Users\\MMM\\Anaconda3\\envs\\tensorflow\\lib\\site-packages\\keras\\engine\\training.py:1569 run_step  **\n        outputs = model.predict_step(data)\n    C:\\Users\\MMM\\Anaconda3\\envs\\tensorflow\\lib\\site-packages\\keras\\engine\\training.py:1537 predict_step\n        return self(x, training=False)\n    C:\\Users\\MMM\\Anaconda3\\envs\\tensorflow\\lib\\site-packages\\keras\\engine\\base_layer.py:1037 __call__\n        outputs = call_fn(inputs, *args, **kwargs)\n    C:\\Users\\MMM\\Anaconda3\\envs\\tensorflow\\lib\\site-packages\\keras\\engine\\functional.py:414 call\n        return self._run_internal_graph(\n    C:\\Users\\MMM\\Anaconda3\\envs\\tensorflow\\lib\\site-packages\\keras\\engine\\functional.py:550 _run_internal_graph\n        outputs = node.layer(*args, **kwargs)\n    C:\\Users\\MMM\\Anaconda3\\envs\\tensorflow\\lib\\site-packages\\keras\\engine\\base_layer.py:1037 __call__\n        outputs = call_fn(inputs, *args, **kwargs)\n    C:\\Users\\MMM\\Anaconda3\\envs\\tensorflow\\lib\\site-packages\\keras\\saving\\saved_model\\utils.py:68 return_outputs_and_add_losses\n        outputs, losses = fn(*args, **kwargs)\n    C:\\Users\\MMM\\Anaconda3\\envs\\tensorflow\\lib\\site-packages\\keras\\saving\\saved_model\\utils.py:164 wrap_with_training_arg\n        return control_flow_util.smart_cond(\n    C:\\Users\\MMM\\Anaconda3\\envs\\tensorflow\\lib\\site-packages\\keras\\utils\\control_flow_util.py:105 smart_cond\n        return tf.__internal__.smart_cond.smart_cond(\n    C:\\Users\\MMM\\Anaconda3\\envs\\tensorflow\\lib\\site-packages\\tensorflow\\python\\framework\\smart_cond.py:58 smart_cond\n        return false_fn()\n    C:\\Users\\MMM\\Anaconda3\\envs\\tensorflow\\lib\\site-packages\\keras\\saving\\saved_model\\utils.py:166 <lambda>\n        lambda: replace_training_and_call(False))\n    C:\\Users\\MMM\\Anaconda3\\envs\\tensorflow\\lib\\site-packages\\keras\\saving\\saved_model\\utils.py:162 replace_training_and_call\n        return wrapped_call(*args, **kwargs)\n    C:\\Users\\MMM\\Anaconda3\\envs\\tensorflow\\lib\\site-packages\\tensorflow\\python\\eager\\def_function.py:885 __call__\n        result = self._call(*args, **kwds)\n    C:\\Users\\MMM\\Anaconda3\\envs\\tensorflow\\lib\\site-packages\\tensorflow\\python\\eager\\def_function.py:924 _call\n        results = self._stateful_fn(*args, **kwds)\n    C:\\Users\\MMM\\Anaconda3\\envs\\tensorflow\\lib\\site-packages\\tensorflow\\python\\eager\\function.py:3038 __call__\n        filtered_flat_args) = self._maybe_define_function(args, kwargs)\n    C:\\Users\\MMM\\Anaconda3\\envs\\tensorflow\\lib\\site-packages\\tensorflow\\python\\eager\\function.py:3463 _maybe_define_function\n        graph_function = self._create_graph_function(args, kwargs)\n    C:\\Users\\MMM\\Anaconda3\\envs\\tensorflow\\lib\\site-packages\\tensorflow\\python\\eager\\function.py:3298 _create_graph_function\n        func_graph_module.func_graph_from_py_func(\n    C:\\Users\\MMM\\Anaconda3\\envs\\tensorflow\\lib\\site-packages\\tensorflow\\python\\framework\\func_graph.py:1007 func_graph_from_py_func\n        func_outputs = python_func(*func_args, **func_kwargs)\n    C:\\Users\\MMM\\Anaconda3\\envs\\tensorflow\\lib\\site-packages\\tensorflow\\python\\eager\\def_function.py:668 wrapped_fn\n        out = weak_wrapped_fn().__wrapped__(*args, **kwds)\n    C:\\Users\\MMM\\Anaconda3\\envs\\tensorflow\\lib\\site-packages\\tensorflow\\python\\saved_model\\function_deserialization.py:274 restored_function_body\n        return _call_concrete_function(function, inputs)\n    C:\\Users\\MMM\\Anaconda3\\envs\\tensorflow\\lib\\site-packages\\tensorflow\\python\\saved_model\\function_deserialization.py:78 _call_concrete_function\n        result = function._call_flat(tensor_inputs, function._captured_inputs)  # pylint: disable=protected-access\n    C:\\Users\\MMM\\Anaconda3\\envs\\tensorflow\\lib\\site-packages\\tensorflow\\python\\saved_model\\load.py:121 _call_flat\n        return super(_WrapperFunction, self)._call_flat(args, captured_inputs,\n    C:\\Users\\MMM\\Anaconda3\\envs\\tensorflow\\lib\\site-packages\\tensorflow\\python\\eager\\function.py:1977 _call_flat\n        flat_outputs = forward_function.call(ctx, args_with_tangents)\n    C:\\Users\\MMM\\Anaconda3\\envs\\tensorflow\\lib\\site-packages\\tensorflow\\python\\eager\\function.py:619 call\n        outputs = functional_ops.partitioned_call(\n    C:\\Users\\MMM\\Anaconda3\\envs\\tensorflow\\lib\\site-packages\\tensorflow\\python\\ops\\functional_ops.py:1221 partitioned_call\n        op = graph.create_op(op_name, args, tout, name=op_name, attrs=op_attrs)\n    C:\\Users\\MMM\\Anaconda3\\envs\\tensorflow\\lib\\site-packages\\tensorflow\\python\\util\\deprecation.py:549 new_func\n        return func(*args, **kwargs)\n    C:\\Users\\MMM\\Anaconda3\\envs\\tensorflow\\lib\\site-packages\\tensorflow\\python\\framework\\ops.py:3499 create_op\n        return self._create_op_internal(op_type, inputs, dtypes, input_types, name,\n    C:\\Users\\MMM\\Anaconda3\\envs\\tensorflow\\lib\\site-packages\\tensorflow\\python\\framework\\func_graph.py:599 _create_op_internal\n        return super(FuncGraph, self)._create_op_internal(  # pylint: disable=protected-access\n    C:\\Users\\MMM\\Anaconda3\\envs\\tensorflow\\lib\\site-packages\\tensorflow\\python\\framework\\ops.py:3561 _create_op_internal\n        ret = Operation(\n    C:\\Users\\MMM\\Anaconda3\\envs\\tensorflow\\lib\\site-packages\\tensorflow\\python\\framework\\ops.py:2041 __init__\n        self._c_op = _create_c_op(self._graph, node_def, inputs,\n    C:\\Users\\MMM\\Anaconda3\\envs\\tensorflow\\lib\\site-packages\\tensorflow\\python\\framework\\ops.py:1883 _create_c_op\n        raise ValueError(str(e))\n\n    ValueError: Cannot reshape a tensor with 5120000 elements to shape [640,32] (20480 elements) for '{{node switch_13/Reshape}} = Reshape[T=DT_FLOAT, Tshape=DT_INT32](layer_normalization_26/batchnorm/add_1, switch_13/Reshape/shape)' with input shapes: [8000,20,32], [2] and with input tensors computed as partial shapes: input[1] = [640,32].\n"
     ]
    }
   ],
   "source": [
    "y_pred_1d = []\n",
    "y_test_1d = list(Y_test)\n",
    "scores = model.predict(X_test, verbose=1, batch_size=8000)\n",
    "y_pred_1d = [decode_sentiment(score, include_neutral=False) for score in scores]"
   ]
  },
  {
   "cell_type": "code",
   "execution_count": null,
   "id": "6c0ab49c-ecf1-43eb-af02-2fb3b49bf3c7",
   "metadata": {},
   "outputs": [],
   "source": [
    "y_test_1d = [decode_sentiment(score, include_neutral=False) for score in y_test_1d]"
   ]
  },
  {
   "cell_type": "code",
   "execution_count": null,
   "id": "fe16a60e-25ae-43f7-8909-66f857abf34e",
   "metadata": {},
   "outputs": [],
   "source": [
    "import itertools\n",
    "from sklearn.metrics import classification_report"
   ]
  },
  {
   "cell_type": "code",
   "execution_count": null,
   "id": "56926073-ded9-4e23-945f-61dc010f72bb",
   "metadata": {},
   "outputs": [],
   "source": [
    "def plot_confusion_matrix(cm, classes,\n",
    "                          title='Confusion matrix',\n",
    "                          cmap=plt.cm.Blues):\n",
    "    \"\"\"\n",
    "    This function prints and plots the confusion matrix.\n",
    "    Normalization can be applied by setting `normalize=True`.\n",
    "    \"\"\"\n",
    "\n",
    "    cm = cm.astype('float') / cm.sum(axis=1)[:, np.newaxis]\n",
    "\n",
    "    plt.imshow(cm, interpolation='nearest', cmap=cmap)\n",
    "    plt.title(title, fontsize=30)\n",
    "    plt.colorbar()\n",
    "    labels=['Negative','Positive']\n",
    "    tick_marks = np.arange(len(classes))\n",
    "    plt.xticks(tick_marks, labels, rotation=90, fontsize=22)\n",
    "    plt.yticks(tick_marks, labels, fontsize=22)\n",
    "    \n",
    "    fmt = '.2f'\n",
    "    thresh = cm.max() / 2.\n",
    "    for i, j in itertools.product(range(cm.shape[0]), range(cm.shape[1])):\n",
    "        plt.text(j, i, format(cm[i, j], fmt),\n",
    "                 horizontalalignment=\"center\",\n",
    "                 color=\"white\" if cm[i, j] > thresh else \"black\")\n",
    "\n",
    "    plt.ylabel('True label', fontsize=25)\n",
    "    plt.xlabel('Predicted label', fontsize=25)"
   ]
  },
  {
   "cell_type": "code",
   "execution_count": null,
   "id": "a0807497-69d5-4008-a990-aa22b5b3db21",
   "metadata": {},
   "outputs": [],
   "source": [
    "cnf_matrix = confusion_matrix(y_test_1d, y_pred_1d)\n",
    "plt.figure(figsize=(12,12))\n",
    "plot_confusion_matrix(cnf_matrix, classes=twitter_data.target.unique(), title=\"Confusion matrix\")\n",
    "plt.show()"
   ]
  },
  {
   "cell_type": "code",
   "execution_count": null,
   "id": "c1f0efa2-9e30-4265-a7f2-a8bf0cae77ed",
   "metadata": {},
   "outputs": [],
   "source": [
    "print(classification_report(y_test_1d, y_pred_1d))"
   ]
  },
  {
   "cell_type": "code",
   "execution_count": null,
   "id": "ebae5980-80ad-43b6-8d57-7e801a70a18e",
   "metadata": {},
   "outputs": [],
   "source": [
    "from sklearn.metrics import roc_curve\n",
    "y_pred_keras = model.predict(X_test).ravel()\n",
    "fpr_keras, tpr_keras, thresholds_keras = roc_curve(Y_test, y_pred_keras)\n",
    "from sklearn.metrics import auc\n",
    "auc_keras = auc(fpr_keras, tpr_keras)\n",
    "plt.figure(1)\n",
    "plt.plot([0, 1], [0, 1], 'k--')\n",
    "plt.plot(fpr_keras, tpr_keras, label='(Area Under the Curve = {:.3f})'.format(auc_keras))\n",
    "plt.xlabel('False Positive Rate')\n",
    "plt.ylabel('True Positive Rate')\n",
    "plt.title ('ROC curve')\n",
    "plt.legend(loc='best')\n",
    "plt.show()"
   ]
  },
  {
   "cell_type": "code",
   "execution_count": null,
   "id": "ac4241fc-f374-445f-882d-db626a46e761",
   "metadata": {},
   "outputs": [],
   "source": []
  }
 ],
 "metadata": {
  "kernelspec": {
   "display_name": "Python 3 (ipykernel)",
   "language": "python",
   "name": "python3"
  },
  "language_info": {
   "codemirror_mode": {
    "name": "ipython",
    "version": 3
   },
   "file_extension": ".py",
   "mimetype": "text/x-python",
   "name": "python",
   "nbconvert_exporter": "python",
   "pygments_lexer": "ipython3",
   "version": "3.8.0"
  }
 },
 "nbformat": 4,
 "nbformat_minor": 5
}

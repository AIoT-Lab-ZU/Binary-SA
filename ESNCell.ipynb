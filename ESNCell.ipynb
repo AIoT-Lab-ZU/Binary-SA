{
 "cells": [
  {
   "cell_type": "markdown",
   "metadata": {},
   "source": [
    "https://www.researchgate.net/publication/215385037"
   ]
  },
  {
   "cell_type": "code",
   "execution_count": 1,
   "metadata": {
    "colab": {},
    "colab_type": "code",
    "id": "DCwfeNVd-Hdc"
   },
   "outputs": [],
   "source": [
    "# Import required packages\n",
    "\n",
    "import pandas as pd\n",
    "import numpy as np\n",
    "import matplotlib.pyplot as plt\n",
    "import nltk\n",
    "import keras\n",
    "from keras.preprocessing.text import Tokenizer\n",
    "from keras.layers import Dense, Dropout, Embedding, LSTM, Bidirectional,InputLayer\n",
    "from sklearn.model_selection import train_test_split"
   ]
  },
  {
   "cell_type": "code",
   "execution_count": 2,
   "metadata": {},
   "outputs": [
    {
     "name": "stderr",
     "output_type": "stream",
     "text": [
      "C:\\Users\\MMM\\Anaconda3\\envs\\tensorflow\\lib\\site-packages\\tensorflow_addons\\utils\\ensure_tf_install.py:53: UserWarning: Tensorflow Addons supports using Python ops for all Tensorflow versions above or equal to 2.7.0 and strictly below 2.10.0 (nightly versions are not supported). \n",
      " The versions of TensorFlow you are currently using is 2.6.0 and is not supported. \n",
      "Some things might work, some things might not.\n",
      "If you were to encounter a bug, do not file an issue.\n",
      "If you want to make sure you're using a tested and supported configuration, either change the TensorFlow version or the TensorFlow Addons's version. \n",
      "You can find the compatibility matrix in TensorFlow Addon's readme:\n",
      "https://github.com/tensorflow/addons\n",
      "  warnings.warn(\n"
     ]
    }
   ],
   "source": [
    "import tensorflow as tf\n",
    "import tensorflow_addons as tfa"
   ]
  },
  {
   "cell_type": "code",
   "execution_count": 3,
   "metadata": {
    "colab": {},
    "colab_type": "code",
    "id": "mmgDSHjo-Zud"
   },
   "outputs": [],
   "source": [
    "# Import Sentiment140 dataset\n",
    "# Update file location of Sentiment140.csv according to your working environment\n",
    "\n",
    "data_path  = \"data/training.1600000.processed.noemoticon.csv\"\n",
    "\n",
    "twitter_data = pd.read_csv(data_path,names=['target','id','date','flag','user','text'],\n",
    "                           encoding = \"ISO-8859-1\")"
   ]
  },
  {
   "cell_type": "code",
   "execution_count": 4,
   "metadata": {
    "colab": {},
    "colab_type": "code",
    "id": "4clzU4R-_IqE"
   },
   "outputs": [],
   "source": [
    "# Create NumPy array of unprocessed input text and target \n",
    "\n",
    "X=np.array(twitter_data['text'])\n",
    "Y=np.array(twitter_data['target'])\n",
    "\n",
    "# Set Y=1 for Positive Tweets\n",
    "Y[Y==4]=1"
   ]
  },
  {
   "cell_type": "code",
   "execution_count": 5,
   "metadata": {
    "colab": {
     "base_uri": "https://localhost:8080/",
     "height": 34
    },
    "colab_type": "code",
    "id": "0aHJnLhyFK80",
    "outputId": "fe50abb7-0800-49fc-b7fa-bdc1599be315"
   },
   "outputs": [
    {
     "name": "stdout",
     "output_type": "stream",
     "text": [
      "I am in pain. My back and sides hurt. Not to mention crying is made of fail. \n"
     ]
    }
   ],
   "source": [
    "# Visualize Dataset\n",
    "\n",
    "index = 123  # index in range [0,1599999]\n",
    "\n",
    "print(X[index])"
   ]
  },
  {
   "cell_type": "code",
   "execution_count": 6,
   "metadata": {
    "colab": {},
    "colab_type": "code",
    "id": "YYbJKYT-Ggis"
   },
   "outputs": [],
   "source": [
    "# Define Preprocessing functions\n",
    "\n",
    "def tokenize(X):\n",
    "  \"\"\"\n",
    "  Tokenize the data using nltk\n",
    "  \"\"\"\n",
    "\n",
    "  treebank = nltk.tokenize.TreebankWordTokenizer()\n",
    "  X_tokenized=[treebank.tokenize(sentence) for sentence in X]  \n",
    "  return X_tokenized\n",
    "\n",
    "\n",
    "def remove_stopwords(X):\n",
    "  \"\"\"\n",
    "  Remove Stopwords using nltk\n",
    "  \"\"\"\n",
    "\n",
    "  stopwords=nltk.corpus.stopwords.words('english') + ['@']\n",
    "  X_without_stopwords = []\n",
    "\n",
    "  for sentence in X:\n",
    "\n",
    "    temp = [word for word in sentence if not word in stopwords]\n",
    "    X_without_stopwords.append(temp) \n",
    "\n",
    "  return X_without_stopwords\n",
    "\n",
    "\n",
    "def stem(X,type='porter'):\n",
    "  \"\"\"\n",
    "  Perform Stemming using nltk\n",
    "  type = 'Porter','Snowball','Lancaster'\n",
    "  \"\"\"\n",
    "  \n",
    "  if type == 'porter':\n",
    "    stemmer= nltk.stem.PorterStemmer()\n",
    "  elif type == 'snowball':\n",
    "    stemmer = nltk.stem.SnowballStemmer()\n",
    "  elif type == 'lancaster':\n",
    "    stemmer = nltk.stem.LancasterStemmer()    \n",
    "\n",
    "  \n",
    "  X_stemmed = []\n",
    "\n",
    "  for sentence in X:\n",
    "\n",
    "    temp = [stemmer.stem(word) for word in sentence]\n",
    "    X_stemmed.append(temp)\n",
    "\n",
    "  return X_stemmed \n",
    "\n",
    "\n",
    "\n",
    "def get_wordnet_pos(treebank_tag):\n",
    "        \"\"\"\n",
    "        return WORDNET POS compliance to WORDENT lemmatization (a,n,r,v) \n",
    "        \"\"\"\n",
    "        if treebank_tag.startswith('J'):\n",
    "            return 'a'\n",
    "        elif treebank_tag.startswith('V'):\n",
    "            return 'v'\n",
    "        elif treebank_tag.startswith('N'):\n",
    "            return 'n'\n",
    "        elif treebank_tag.startswith('R'):\n",
    "            return 'r'\n",
    "        else:\n",
    "            return 'n'\n",
    "\n",
    "\n",
    "def lemmatize(X):\n",
    "  \"\"\"\n",
    "  Lemmatize words using corresponding POS tag\n",
    "  \"\"\"\n",
    "\n",
    "  lemmatizer = nltk.stem.WordNetLemmatizer()\n",
    "  \n",
    "  X_pos = []\n",
    "  X_lemmatized = []\n",
    "\n",
    "  for sentence in X :\n",
    "\n",
    "    temp = nltk.pos_tag(sentence)\n",
    "    X_pos.append(temp)  \n",
    "\n",
    "  for sentence in X_pos :\n",
    "\n",
    "    temp = [ lemmatizer.lemmatize(word[0],pos=get_wordnet_pos(word[1])) for word in sentence]\n",
    "    X_lemmatized.append(temp)  \n",
    "\n",
    "  return X_lemmatized    "
   ]
  },
  {
   "cell_type": "markdown",
   "metadata": {
    "colab_type": "text",
    "id": "hgesb5eM9dz7"
   },
   "source": [
    "# **Training on Pre-Processed data with GloVe Word Embeddings**\n",
    "\n"
   ]
  },
  {
   "cell_type": "code",
   "execution_count": 7,
   "metadata": {
    "colab": {},
    "colab_type": "code",
    "id": "vGnvHQFI9jYR"
   },
   "outputs": [],
   "source": [
    "# Preprocess the data\n",
    "\n",
    "X_tokenized = tokenize (X)\n",
    "\n",
    "X_without_stopwords = remove_stopwords ( X_tokenized )\n",
    "\n",
    "X_lemmatized = lemmatize ( X_without_stopwords )\n",
    "\n",
    "X_clean = []\n",
    "\n",
    "for sentence in X_lemmatized:\n",
    "\n",
    "  temp = \" \".join(sentence)\n",
    "  X_clean.append(temp)"
   ]
  },
  {
   "cell_type": "code",
   "execution_count": 8,
   "metadata": {
    "colab": {
     "base_uri": "https://localhost:8080/",
     "height": 34
    },
    "colab_type": "code",
    "id": "099aSlCgdSuH",
    "outputId": "f41677a6-ff10-4b6f-cde7-fef004193127"
   },
   "outputs": [
    {
     "name": "stdout",
     "output_type": "stream",
     "text": [
      "No. of distinct tokens = 836890\n"
     ]
    }
   ],
   "source": [
    "# Count total no. of distinct tokens\n",
    "\n",
    "tokenizer = Tokenizer(filters='@')\n",
    "tokenizer.fit_on_texts(X_clean)\n",
    "\n",
    "print('No. of distinct tokens = '+str(len(tokenizer.word_index)))"
   ]
  },
  {
   "cell_type": "code",
   "execution_count": 9,
   "metadata": {
    "colab": {},
    "colab_type": "code",
    "id": "KGZbksYQdSuN"
   },
   "outputs": [],
   "source": [
    "# Define Vocabulary size (no. of most frequent tokens) to consider\n",
    "\n",
    "max_vocab=50000"
   ]
  },
  {
   "cell_type": "code",
   "execution_count": 10,
   "metadata": {
    "colab": {},
    "colab_type": "code",
    "id": "eUZATHUKdSuQ"
   },
   "outputs": [],
   "source": [
    "# Reload Twitter dataset with new Vocabulary\n",
    "\n",
    "tokenizer = Tokenizer(num_words=max_vocab,filters='@')\n",
    "tokenizer.fit_on_texts(X_clean)"
   ]
  },
  {
   "cell_type": "code",
   "execution_count": 11,
   "metadata": {
    "colab": {},
    "colab_type": "code",
    "id": "vRu7fr1T_b3Y"
   },
   "outputs": [],
   "source": [
    "# Vectorize input text using Vocabulary\n",
    "\n",
    "X_clean_vectorized=tokenizer.texts_to_sequences(X_clean)"
   ]
  },
  {
   "cell_type": "code",
   "execution_count": 12,
   "metadata": {
    "colab": {
     "base_uri": "https://localhost:8080/",
     "height": 34
    },
    "colab_type": "code",
    "id": "u7XIoIzPdSuU",
    "outputId": "08402107-f293-4e39-83fa-c68d38edf0cb"
   },
   "outputs": [
    {
     "name": "stdout",
     "output_type": "stream",
     "text": [
      "Average length of tweets = 10.061133125\n"
     ]
    }
   ],
   "source": [
    "# Count average length of tweets\n",
    "\n",
    "length=[]\n",
    "for sentence in X_clean_vectorized:\n",
    "  length.append(len(sentence))\n",
    "  \n",
    "print('Average length of tweets = '+str(np.mean(length)))"
   ]
  },
  {
   "cell_type": "code",
   "execution_count": 13,
   "metadata": {
    "colab": {},
    "colab_type": "code",
    "id": "pDhzyLd5dSuX"
   },
   "outputs": [],
   "source": [
    "# Define Maximum input length of the Model\n",
    "\n",
    "max_length=20"
   ]
  },
  {
   "cell_type": "code",
   "execution_count": 14,
   "metadata": {
    "colab": {
     "base_uri": "https://localhost:8080/",
     "height": 34
    },
    "colab_type": "code",
    "id": "xGFaD8wW_b3b",
    "outputId": "47e59f0b-de0a-46ef-8dd4-8f77d32493dc"
   },
   "outputs": [
    {
     "name": "stdout",
     "output_type": "stream",
     "text": [
      "(1600000, 20)\n"
     ]
    }
   ],
   "source": [
    "# Pad or Trim data to defined input length\n",
    "\n",
    "X_clean_pad = keras.preprocessing.sequence.pad_sequences(X_clean_vectorized,max_length,padding='post',\n",
    "                                                         truncating='post')\n",
    "\n",
    "print(X_clean_pad.shape)"
   ]
  },
  {
   "cell_type": "code",
   "execution_count": 15,
   "metadata": {
    "colab": {
     "base_uri": "https://localhost:8080/",
     "height": 457
    },
    "colab_type": "code",
    "id": "h7oQjX--G3IY",
    "outputId": "fe6979ae-a6c9-4335-f827-b5c027b4006f"
   },
   "outputs": [
    {
     "name": "stdout",
     "output_type": "stream",
     "text": [
      "\n",
      "Original :\n",
      "I am in pain. My back and sides hurt. Not to mention crying is made of fail. \n",
      "\n",
      "Tokenized :\n",
      "['I', 'am', 'in', 'pain.', 'My', 'back', 'and', 'sides', 'hurt.', 'Not', 'to', 'mention', 'crying', 'is', 'made', 'of', 'fail', '.']\n",
      "\n",
      "Stopwords removed :\n",
      "['I', 'pain.', 'My', 'back', 'sides', 'hurt.', 'Not', 'mention', 'crying', 'made', 'fail', '.']\n",
      "\n",
      "POS tagged :\n",
      "[('I', 'PRP'), ('pain.', 'VBP'), ('My', 'PRP$'), ('back', 'NN'), ('sides', 'NNS'), ('hurt.', 'VBP'), ('Not', 'RB'), ('mention', 'NN'), ('crying', 'VBG'), ('made', 'VBN'), ('fail', 'NN'), ('.', '.')]\n",
      "\n",
      "Lemmatized :\n",
      "['I', 'pain.', 'My', 'back', 'side', 'hurt.', 'Not', 'mention', 'cry', 'make', 'fail', '.']\n",
      "\n",
      "Clean :\n",
      "I pain. My back side hurt. Not mention cry make fail .\n",
      "\n",
      "Vectorized :\n",
      "[2, 3428, 62, 30, 591, 4229, 146, 831, 308, 33, 426, 4]\n",
      "\n",
      "Padded :\n",
      "[   2 3428   62   30  591 4229  146  831  308   33  426    4    0    0\n",
      "    0    0    0    0    0    0]\n"
     ]
    }
   ],
   "source": [
    "# Visualize pre-processed data\n",
    "\n",
    "index  = 123  # index in range [0,1599999]\n",
    "\n",
    "print('\\nOriginal :')\n",
    "print(X[index])\n",
    "print('\\nTokenized :')\n",
    "print(X_tokenized[index])\n",
    "print('\\nStopwords removed :')\n",
    "print(X_without_stopwords[index])\n",
    "print('\\nPOS tagged :')\n",
    "print(nltk.pos_tag(X_without_stopwords[index]))\n",
    "print('\\nLemmatized :')\n",
    "print(X_lemmatized[index])\n",
    "print('\\nClean :')\n",
    "print(X_clean[index])\n",
    "print('\\nVectorized :')\n",
    "print(X_clean_vectorized[index])\n",
    "print('\\nPadded :')\n",
    "print(X_clean_pad[index])"
   ]
  },
  {
   "cell_type": "code",
   "execution_count": 16,
   "metadata": {
    "colab": {},
    "colab_type": "code",
    "id": "dDYeN-AMz21Y"
   },
   "outputs": [],
   "source": [
    "# Load Pre-trained Word embeddings\n",
    "# Update file location of glove.6B.100d.txt according to your working environment\n",
    "\n",
    "embedding_path = './embedding/glove.twitter.27B.200d.txt'\n",
    "\n",
    "embeddings_index = dict()\n",
    "f = open(embedding_path, encoding='utf-8')\n",
    "for line in f:\n",
    "\tvalues = line.split()\n",
    "\tword = values[0]\n",
    "\tcoefs = np.asarray(values[1:], dtype='float32')\n",
    "\tembeddings_index[word] = coefs\n",
    "f.close()"
   ]
  },
  {
   "cell_type": "code",
   "execution_count": 17,
   "metadata": {
    "colab": {},
    "colab_type": "code",
    "id": "ik4DKokz0MSa"
   },
   "outputs": [],
   "source": [
    "# Create Word Embedding Matrix\n",
    "\n",
    "embedding_matrix = np.zeros((max_vocab, 200))\n",
    "for i in range(1,max_vocab):\n",
    "\tembedding_vector = embeddings_index.get(tokenizer.index_word[i])\n",
    "\tif embedding_vector is not None:\n",
    "\t\tembedding_matrix[i] = embedding_vector"
   ]
  },
  {
   "cell_type": "code",
   "execution_count": 45,
   "metadata": {
    "colab": {},
    "colab_type": "code",
    "id": "nKazaYlB_b3g"
   },
   "outputs": [
    {
     "name": "stdout",
     "output_type": "stream",
     "text": [
      "Model: \"sequential_1\"\n",
      "_________________________________________________________________\n",
      "Layer (type)                 Output Shape              Param #   \n",
      "=================================================================\n",
      "Pretrained_GloVe_100D (Embed (None, 20, 200)           10000000  \n",
      "_________________________________________________________________\n",
      "dropout_1 (Dropout)          (None, 20, 200)           0         \n",
      "_________________________________________________________________\n",
      "rnn_1 (RNN)                  (None, 200)               80200     \n",
      "_________________________________________________________________\n",
      "dense_2 (Dense)              (None, 64)                12864     \n",
      "_________________________________________________________________\n",
      "dense_3 (Dense)              (None, 1)                 65        \n",
      "=================================================================\n",
      "Total params: 10,093,129\n",
      "Trainable params: 12,929\n",
      "Non-trainable params: 10,080,200\n",
      "_________________________________________________________________\n",
      "None\n"
     ]
    }
   ],
   "source": [
    "# Define Classification model\n",
    "# define model\n",
    "model = tf.keras.models.Sequential()\n",
    "model.add(InputLayer(input_shape=(20,),name='Integer_Encoding_after_Preprocessing'))\n",
    "model.add(Embedding(max_vocab, 200, weights=[embedding_matrix], input_length=max_length,mask_zero=True,\n",
    "                      name='Pretrained_GloVe_100D', trainable=False))\n",
    "model.add(Dropout(0.2))\n",
    "ESNCell = tfa.rnn.ESNCell(200)\n",
    "model.add(tf.keras.layers.RNN(ESNCell))\n",
    "model.add(Dense(64, activation='relu'))\n",
    "model.add(Dense(1, activation = \"sigmoid\"))\n",
    "\n",
    "print(model.summary())"
   ]
  },
  {
   "cell_type": "code",
   "execution_count": 46,
   "metadata": {
    "colab": {
     "base_uri": "https://localhost:8080/",
     "height": 735
    },
    "colab_type": "code",
    "id": "lE1ht4sI_b3l",
    "outputId": "0e3ec701-7602-4ed9-a782-9277cc73264f"
   },
   "outputs": [
    {
     "name": "stdout",
     "output_type": "stream",
     "text": [
      "Model: \"sequential_1\"\n",
      "_________________________________________________________________\n",
      "Layer (type)                 Output Shape              Param #   \n",
      "=================================================================\n",
      "Pretrained_GloVe_100D (Embed (None, 20, 200)           10000000  \n",
      "_________________________________________________________________\n",
      "dropout_1 (Dropout)          (None, 20, 200)           0         \n",
      "_________________________________________________________________\n",
      "rnn_1 (RNN)                  (None, 200)               80200     \n",
      "_________________________________________________________________\n",
      "dense_2 (Dense)              (None, 64)                12864     \n",
      "_________________________________________________________________\n",
      "dense_3 (Dense)              (None, 1)                 65        \n",
      "=================================================================\n",
      "Total params: 10,093,129\n",
      "Trainable params: 12,929\n",
      "Non-trainable params: 10,080,200\n",
      "_________________________________________________________________\n",
      "('You must install pydot (`pip install pydot`) and install graphviz (see instructions at https://graphviz.gitlab.io/download/) ', 'for plot_model/model_to_dot to work.')\n"
     ]
    }
   ],
   "source": [
    "# Model details\n",
    "\n",
    "model.summary()\n",
    "tf.keras.utils.plot_model(model,to_file='model.png')"
   ]
  },
  {
   "cell_type": "code",
   "execution_count": 47,
   "metadata": {
    "colab": {
     "base_uri": "https://localhost:8080/",
     "height": 84
    },
    "colab_type": "code",
    "id": "KVyKQAeL_b3q",
    "outputId": "4e3a53ad-f4b9-4a1b-fd79-de12f7654cee"
   },
   "outputs": [
    {
     "name": "stdout",
     "output_type": "stream",
     "text": [
      "(1440000, 20)\n",
      "(160000, 20)\n",
      "(1440000, 1)\n",
      "(160000, 1)\n"
     ]
    }
   ],
   "source": [
    "# Perform train-test split\n",
    "\n",
    "np.random.seed(123)\n",
    "\n",
    "X_train, X_test, Y_train, Y_test = train_test_split (X_clean_pad,Y.reshape(Y.shape[0],1),test_size=0.1)\n",
    "\n",
    "print(X_train.shape)\n",
    "print(X_test.shape)\n",
    "print(Y_train.shape)\n",
    "print(Y_test.shape)"
   ]
  },
  {
   "cell_type": "code",
   "execution_count": null,
   "metadata": {},
   "outputs": [],
   "source": []
  },
  {
   "cell_type": "code",
   "execution_count": 56,
   "metadata": {
    "colab": {
     "base_uri": "https://localhost:8080/",
     "height": 538
    },
    "colab_type": "code",
    "id": "MG--6fer_b3t",
    "outputId": "b089d5c5-9ad9-4b54-c780-8f39990a900e"
   },
   "outputs": [
    {
     "name": "stdout",
     "output_type": "stream",
     "text": [
      "Epoch 1/50\n",
      "1125/1125 [==============================] - 126s 111ms/step - loss: 0.1592 - accuracy: 0.6359 - val_loss: 0.1533 - val_accuracy: 0.6601\n",
      "\n",
      "Epoch 00001: val_accuracy improved from -inf to 0.66012, saving model to models\\ESNLSTM.h5\n",
      "Epoch 2/50\n",
      "1125/1125 [==============================] - 59s 53ms/step - loss: 0.1546 - accuracy: 0.6544 - val_loss: 0.1513 - val_accuracy: 0.6671\n",
      "\n",
      "Epoch 00002: val_accuracy improved from 0.66012 to 0.66709, saving model to models\\ESNLSTM.h5\n",
      "Epoch 3/50\n",
      "1125/1125 [==============================] - 45s 40ms/step - loss: 0.1533 - accuracy: 0.6600 - val_loss: 0.1497 - val_accuracy: 0.6750\n",
      "\n",
      "Epoch 00003: val_accuracy improved from 0.66709 to 0.67496, saving model to models\\ESNLSTM.h5\n",
      "Epoch 4/50\n",
      "1125/1125 [==============================] - 53s 47ms/step - loss: 0.1526 - accuracy: 0.6630 - val_loss: 0.1493 - val_accuracy: 0.6759\n",
      "\n",
      "Epoch 00004: val_accuracy improved from 0.67496 to 0.67593, saving model to models\\ESNLSTM.h5\n",
      "Epoch 5/50\n",
      "1125/1125 [==============================] - 47s 42ms/step - loss: 0.1521 - accuracy: 0.6656 - val_loss: 0.1490 - val_accuracy: 0.6769\n",
      "\n",
      "Epoch 00005: val_accuracy improved from 0.67593 to 0.67688, saving model to models\\ESNLSTM.h5\n",
      "Epoch 6/50\n",
      "1125/1125 [==============================] - 50s 44ms/step - loss: 0.1518 - accuracy: 0.6666 - val_loss: 0.1487 - val_accuracy: 0.6782\n",
      "\n",
      "Epoch 00006: val_accuracy improved from 0.67688 to 0.67822, saving model to models\\ESNLSTM.h5\n",
      "Epoch 7/50\n",
      "1125/1125 [==============================] - 48s 43ms/step - loss: 0.1515 - accuracy: 0.6677 - val_loss: 0.1481 - val_accuracy: 0.6817\n",
      "\n",
      "Epoch 00007: val_accuracy improved from 0.67822 to 0.68167, saving model to models\\ESNLSTM.h5\n",
      "Epoch 8/50\n",
      "1125/1125 [==============================] - 48s 43ms/step - loss: 0.1513 - accuracy: 0.6683 - val_loss: 0.1478 - val_accuracy: 0.6826\n",
      "\n",
      "Epoch 00008: val_accuracy improved from 0.68167 to 0.68258, saving model to models\\ESNLSTM.h5\n",
      "Epoch 9/50\n",
      "1125/1125 [==============================] - 51s 46ms/step - loss: 0.1511 - accuracy: 0.6692 - val_loss: 0.1483 - val_accuracy: 0.6798\n",
      "\n",
      "Epoch 00009: val_accuracy did not improve from 0.68258\n",
      "Epoch 10/50\n",
      "1125/1125 [==============================] - 46s 41ms/step - loss: 0.1509 - accuracy: 0.6701 - val_loss: 0.1477 - val_accuracy: 0.6826\n",
      "\n",
      "Epoch 00010: val_accuracy improved from 0.68258 to 0.68260, saving model to models\\ESNLSTM.h5\n",
      "Epoch 11/50\n",
      "1125/1125 [==============================] - 51s 46ms/step - loss: 0.1508 - accuracy: 0.6707 - val_loss: 0.1475 - val_accuracy: 0.6838\n",
      "\n",
      "Epoch 00011: val_accuracy improved from 0.68260 to 0.68377, saving model to models\\ESNLSTM.h5\n",
      "Epoch 12/50\n",
      "1125/1125 [==============================] - 51s 46ms/step - loss: 0.1506 - accuracy: 0.6715 - val_loss: 0.1475 - val_accuracy: 0.6824\n",
      "\n",
      "Epoch 00012: val_accuracy did not improve from 0.68377\n",
      "Epoch 13/50\n",
      "1125/1125 [==============================] - 53s 47ms/step - loss: 0.1506 - accuracy: 0.6713 - val_loss: 0.1473 - val_accuracy: 0.6842\n",
      "\n",
      "Epoch 00013: val_accuracy improved from 0.68377 to 0.68418, saving model to models\\ESNLSTM.h5\n",
      "Epoch 14/50\n",
      "1125/1125 [==============================] - 53s 47ms/step - loss: 0.1504 - accuracy: 0.6718 - val_loss: 0.1473 - val_accuracy: 0.6843\n",
      "\n",
      "Epoch 00014: val_accuracy improved from 0.68418 to 0.68434, saving model to models\\ESNLSTM.h5\n",
      "Epoch 15/50\n",
      "1125/1125 [==============================] - 52s 46ms/step - loss: 0.1503 - accuracy: 0.6726 - val_loss: 0.1477 - val_accuracy: 0.6820\n",
      "\n",
      "Epoch 00015: val_accuracy did not improve from 0.68434\n",
      "Epoch 16/50\n",
      "1125/1125 [==============================] - 53s 47ms/step - loss: 0.1503 - accuracy: 0.6729 - val_loss: 0.1468 - val_accuracy: 0.6865\n",
      "\n",
      "Epoch 00016: val_accuracy improved from 0.68434 to 0.68653, saving model to models\\ESNLSTM.h5\n",
      "Epoch 17/50\n",
      "1125/1125 [==============================] - 49s 43ms/step - loss: 0.1503 - accuracy: 0.6732 - val_loss: 0.1474 - val_accuracy: 0.6840\n",
      "\n",
      "Epoch 00017: val_accuracy did not improve from 0.68653\n",
      "Epoch 18/50\n",
      "1125/1125 [==============================] - 53s 47ms/step - loss: 0.1501 - accuracy: 0.6731 - val_loss: 0.1469 - val_accuracy: 0.6860\n",
      "\n",
      "Epoch 00018: val_accuracy did not improve from 0.68653\n",
      "Epoch 19/50\n",
      "1125/1125 [==============================] - 51s 46ms/step - loss: 0.1500 - accuracy: 0.6737 - val_loss: 0.1474 - val_accuracy: 0.6820\n",
      "\n",
      "Epoch 00019: val_accuracy did not improve from 0.68653\n",
      "Epoch 20/50\n",
      "1125/1125 [==============================] - 51s 46ms/step - loss: 0.1500 - accuracy: 0.6739 - val_loss: 0.1470 - val_accuracy: 0.6846\n",
      "\n",
      "Epoch 00020: val_accuracy did not improve from 0.68653\n",
      "Epoch 21/50\n",
      "1125/1125 [==============================] - 50s 45ms/step - loss: 0.1499 - accuracy: 0.6741 - val_loss: 0.1469 - val_accuracy: 0.6855\n",
      "\n",
      "Epoch 00021: val_accuracy did not improve from 0.68653\n",
      "Epoch 00021: early stopping\n"
     ]
    }
   ],
   "source": [
    "# Train the model\n",
    "# Compile the Model\n",
    "from keras.callbacks import EarlyStopping\n",
    "from keras.callbacks import ModelCheckpoint\n",
    "from focal_loss import BinaryFocalLoss\n",
    "model.compile(optimizer = \"adam\", loss = BinaryFocalLoss(gamma=2), metrics = ['accuracy'])\n",
    "es = EarlyStopping(monitor='val_loss', mode='min', verbose=1, patience=5)\n",
    "mc = ModelCheckpoint('models/ESNLSTM.h5', monitor='val_accuracy', mode='max', verbose=1, save_best_only=True)\n",
    "\n",
    "history = model.fit(X_train,Y_train,batch_size=1024,epochs=50,validation_split=0.2,callbacks=[es, mc])"
   ]
  },
  {
   "cell_type": "code",
   "execution_count": 57,
   "metadata": {},
   "outputs": [
    {
     "name": "stdout",
     "output_type": "stream",
     "text": [
      "dict_keys(['loss', 'accuracy', 'val_loss', 'val_accuracy'])\n"
     ]
    },
    {
     "data": {
      "image/png": "[encoded data removed]",
      "text/plain": [
       "<Figure size 432x288 with 1 Axes>"
      ]
     },
     "metadata": {
      "needs_background": "light"
     },
     "output_type": "display_data"
    },
    {
     "data": {
      "image/png": "[encoded data removed]",
      "text/plain": [
       "<Figure size 432x288 with 1 Axes>"
      ]
     },
     "metadata": {
      "needs_background": "light"
     },
     "output_type": "display_data"
    }
   ],
   "source": [
    "import matplotlib.pyplot as plt\n",
    "print(history.history.keys())\n",
    "# summarize history for accuracy\n",
    "plt.plot(history.history['accuracy'])\n",
    "plt.plot(history.history['val_accuracy'])\n",
    "plt.title('model accuracy')\n",
    "plt.ylabel('accuracy')\n",
    "plt.xlabel('epoch')\n",
    "plt.legend(['train', 'test'], loc='upper left')\n",
    "plt.show()\n",
    "# summarize history for loss\n",
    "plt.plot(history.history['loss'])\n",
    "plt.plot(history.history['val_loss'])\n",
    "plt.title('model loss')\n",
    "plt.ylabel('loss')\n",
    "plt.xlabel('epoch')\n",
    "plt.legend(['train', 'test'], loc='upper left')\n",
    "plt.show()"
   ]
  },
  {
   "cell_type": "markdown",
   "metadata": {},
   "source": [
    "# Load and Evaluate"
   ]
  },
  {
   "cell_type": "code",
   "execution_count": 58,
   "metadata": {},
   "outputs": [],
   "source": [
    "from focal_loss import BinaryFocalLoss\n",
    "from tensorflow.keras.models import load_model\n",
    "model = load_model('models/ESNLSTM.h5',custom_objects={'BinaryFocalLoss':BinaryFocalLoss})"
   ]
  },
  {
   "cell_type": "code",
   "execution_count": 59,
   "metadata": {},
   "outputs": [
    {
     "name": "stdout",
     "output_type": "stream",
     "text": [
      "Accuracy: 0.683619\n",
      "Precision: 0.681739\n",
      "Recall: 0.688092\n",
      "F1 score: 0.684901\n",
      "Cohens kappa: 0.367241\n",
      "ROC AUC: 0.756825\n"
     ]
    }
   ],
   "source": [
    "from sklearn.metrics import accuracy_score\n",
    "from sklearn.metrics import precision_score\n",
    "from sklearn.metrics import recall_score\n",
    "from sklearn.metrics import f1_score\n",
    "from sklearn.metrics import cohen_kappa_score\n",
    "from sklearn.metrics import roc_auc_score\n",
    "from sklearn.metrics import confusion_matrix\n",
    "\n",
    "yhat1 = model.predict(X_test, verbose=0)\n",
    "\n",
    "#Binary Classification\n",
    "yhat=np.where(yhat1 > 0.5, 1,0)\n",
    "\n",
    "#Mutli-class Classification\n",
    "#yhat = np.argmax(yhat, axis = 1)\n",
    "\n",
    "\n",
    "accuracy = accuracy_score( Y_test, yhat)\n",
    "print('Accuracy: %f' % accuracy)\n",
    "# precision tp / (tp + fp)\n",
    "precision = precision_score(Y_test, yhat)\n",
    "print('Precision: %f' % precision)\n",
    "# recall: tp / (tp + fn)\n",
    "recall = recall_score(Y_test, yhat)\n",
    "print('Recall: %f' % recall)\n",
    "# f1: 2 tp / (2 tp + fp + fn)\n",
    "f1 = f1_score(Y_test, yhat)\n",
    "print('F1 score: %f' % f1)\n",
    " \n",
    "# kappa\n",
    "kappa = cohen_kappa_score(Y_test, yhat)\n",
    "print('Cohens kappa: %f' % kappa)\n",
    "# ROC AUC\n",
    "auc = roc_auc_score(Y_test, yhat1)\n",
    "print('ROC AUC: %f' % auc)\n"
   ]
  },
  {
   "cell_type": "code",
   "execution_count": 60,
   "metadata": {},
   "outputs": [],
   "source": [
    "def decode_sentiment(score, include_neutral=True):\n",
    "    if include_neutral:        \n",
    "        label = 'NEUTRAL'\n",
    "        if score <= SENTIMENT_THRESHOLDS[0]:\n",
    "            label = 'NEGATIVE'\n",
    "        elif score >= SENTIMENT_THRESHOLDS[1]:\n",
    "            label = 'POSITIVE'\n",
    "\n",
    "        return label\n",
    "    else:\n",
    "        return 'NEGATIVE' if score < 0.5 else 'POSITIVE'"
   ]
  },
  {
   "cell_type": "code",
   "execution_count": 61,
   "metadata": {},
   "outputs": [
    {
     "name": "stdout",
     "output_type": "stream",
     "text": [
      "20/20 [==============================] - 2s 92ms/step\n"
     ]
    }
   ],
   "source": [
    "y_pred_1d = []\n",
    "y_test_1d = list(Y_test)\n",
    "scores = model.predict(X_test, verbose=1, batch_size=8000)\n",
    "y_pred_1d = [decode_sentiment(score, include_neutral=False) for score in scores]"
   ]
  },
  {
   "cell_type": "code",
   "execution_count": 62,
   "metadata": {},
   "outputs": [],
   "source": [
    "y_test_1d = [decode_sentiment(score, include_neutral=False) for score in y_test_1d]"
   ]
  },
  {
   "cell_type": "code",
   "execution_count": 63,
   "metadata": {},
   "outputs": [],
   "source": [
    "import itertools\n",
    "from sklearn.metrics import classification_report"
   ]
  },
  {
   "cell_type": "code",
   "execution_count": 64,
   "metadata": {},
   "outputs": [],
   "source": [
    "def plot_confusion_matrix(cm, classes,\n",
    "                          title='Confusion matrix',\n",
    "                          cmap=plt.cm.Blues):\n",
    "    \"\"\"\n",
    "    This function prints and plots the confusion matrix.\n",
    "    Normalization can be applied by setting `normalize=True`.\n",
    "    \"\"\"\n",
    "\n",
    "    cm = cm.astype('float') / cm.sum(axis=1)[:, np.newaxis]\n",
    "\n",
    "    plt.imshow(cm, interpolation='nearest', cmap=cmap)\n",
    "    plt.title(title, fontsize=30)\n",
    "    plt.colorbar()\n",
    "    labels=['Negative','Positive']\n",
    "    tick_marks = np.arange(len(classes))\n",
    "    plt.xticks(tick_marks, labels, rotation=90, fontsize=22)\n",
    "    plt.yticks(tick_marks, labels, fontsize=22)\n",
    "    \n",
    "    fmt = '.2f'\n",
    "    thresh = cm.max() / 2.\n",
    "    for i, j in itertools.product(range(cm.shape[0]), range(cm.shape[1])):\n",
    "        plt.text(j, i, format(cm[i, j], fmt),\n",
    "                 horizontalalignment=\"center\",\n",
    "                 color=\"white\" if cm[i, j] > thresh else \"black\")\n",
    "\n",
    "    plt.ylabel('True label', fontsize=25)\n",
    "    plt.xlabel('Predicted label', fontsize=25)"
   ]
  },
  {
   "cell_type": "code",
   "execution_count": 65,
   "metadata": {},
   "outputs": [
    {
     "data": {
      "image/png": "[encoded data removed]",
      "text/plain": [
       "<Figure size 864x864 with 2 Axes>"
      ]
     },
     "metadata": {
      "needs_background": "light"
     },
     "output_type": "display_data"
    }
   ],
   "source": [
    "cnf_matrix = confusion_matrix(y_test_1d, y_pred_1d)\n",
    "plt.figure(figsize=(12,12))\n",
    "plot_confusion_matrix(cnf_matrix, classes=twitter_data.target.unique(), title=\"Confusion matrix\")\n",
    "plt.show()"
   ]
  },
  {
   "cell_type": "code",
   "execution_count": 66,
   "metadata": {},
   "outputs": [
    {
     "name": "stdout",
     "output_type": "stream",
     "text": [
      "              precision    recall  f1-score   support\n",
      "\n",
      "    NEGATIVE       0.69      0.68      0.68     80047\n",
      "    POSITIVE       0.68      0.69      0.68     79953\n",
      "\n",
      "    accuracy                           0.68    160000\n",
      "   macro avg       0.68      0.68      0.68    160000\n",
      "weighted avg       0.68      0.68      0.68    160000\n",
      "\n"
     ]
    }
   ],
   "source": [
    "print(classification_report(y_test_1d, y_pred_1d))"
   ]
  },
  {
   "cell_type": "code",
   "execution_count": 67,
   "metadata": {},
   "outputs": [
    {
     "data": {
      "image/png": "[encoded data removed]",
      "text/plain": [
       "<Figure size 432x288 with 1 Axes>"
      ]
     },
     "metadata": {
      "needs_background": "light"
     },
     "output_type": "display_data"
    }
   ],
   "source": [
    "from sklearn.metrics import roc_curve\n",
    "y_pred_keras = model.predict(X_test).ravel()\n",
    "fpr_keras, tpr_keras, thresholds_keras = roc_curve(Y_test, y_pred_keras)\n",
    "from sklearn.metrics import auc\n",
    "auc_keras = auc(fpr_keras, tpr_keras)\n",
    "plt.figure(1)\n",
    "plt.plot([0, 1], [0, 1], 'k--')\n",
    "plt.plot(fpr_keras, tpr_keras, label='(Area Under the Curve = {:.3f})'.format(auc_keras))\n",
    "plt.xlabel('False Positive Rate')\n",
    "plt.ylabel('True Positive Rate')\n",
    "plt.title ('ROC curve')\n",
    "plt.legend(loc='best')\n",
    "plt.show()"
   ]
  },
  {
   "cell_type": "code",
   "execution_count": null,
   "metadata": {},
   "outputs": [],
   "source": []
  }
 ],
 "metadata": {
  "accelerator": "TPU",
  "colab": {
   "collapsed_sections": [],
   "machine_shape": "hm",
   "name": "Twitter_Sentiment_Analysis.ipynb",
   "provenance": []
  },
  "kernelspec": {
   "display_name": "Python 3 (ipykernel)",
   "language": "python",
   "name": "python3"
  },
  "language_info": {
   "codemirror_mode": {
    "name": "ipython",
    "version": 3
   },
   "file_extension": ".py",
   "mimetype": "text/x-python",
   "name": "python",
   "nbconvert_exporter": "python",
   "pygments_lexer": "ipython3",
   "version": "3.8.0"
  }
 },
 "nbformat": 4,
 "nbformat_minor": 4
}
